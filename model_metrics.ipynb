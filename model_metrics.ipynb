{
 "cells": [
  {
   "cell_type": "markdown",
   "metadata": {},
   "source": [
    "# Econometrics\n",
    "Project made by Mohamed Jad Kabbaj, Matteo Nobile, Leo Weiss, Yacine Lassouani"
   ]
  },
  {
   "cell_type": "markdown",
   "metadata": {},
   "source": [
    "# Initialization"
   ]
  },
  {
   "cell_type": "code",
   "execution_count": 12,
   "metadata": {},
   "outputs": [
    {
     "name": "stdout",
     "output_type": "stream",
     "text": [
      "Requirement already satisfied: plotly in c:\\users\\33668\\appdata\\local\\programs\\python\\python312\\lib\\site-packages (5.24.1)\n",
      "Requirement already satisfied: pandas in c:\\users\\33668\\appdata\\local\\programs\\python\\python312\\lib\\site-packages (2.2.3)\n",
      "Requirement already satisfied: nbformat in c:\\users\\33668\\appdata\\local\\programs\\python\\python312\\lib\\site-packages (5.10.4)\n",
      "Requirement already satisfied: statsmodels in c:\\users\\33668\\appdata\\local\\programs\\python\\python312\\lib\\site-packages (0.14.4)\n",
      "Requirement already satisfied: tenacity>=6.2.0 in c:\\users\\33668\\appdata\\local\\programs\\python\\python312\\lib\\site-packages (from plotly) (9.0.0)\n",
      "Requirement already satisfied: packaging in c:\\users\\33668\\appdata\\roaming\\python\\python312\\site-packages (from plotly) (24.2)\n",
      "Requirement already satisfied: numpy>=1.26.0 in c:\\users\\33668\\appdata\\local\\programs\\python\\python312\\lib\\site-packages (from pandas) (2.1.3)\n",
      "Requirement already satisfied: python-dateutil>=2.8.2 in c:\\users\\33668\\appdata\\roaming\\python\\python312\\site-packages (from pandas) (2.9.0.post0)\n",
      "Requirement already satisfied: pytz>=2020.1 in c:\\users\\33668\\appdata\\local\\programs\\python\\python312\\lib\\site-packages (from pandas) (2024.2)\n",
      "Requirement already satisfied: tzdata>=2022.7 in c:\\users\\33668\\appdata\\local\\programs\\python\\python312\\lib\\site-packages (from pandas) (2024.2)\n",
      "Requirement already satisfied: fastjsonschema>=2.15 in c:\\users\\33668\\appdata\\local\\programs\\python\\python312\\lib\\site-packages (from nbformat) (2.20.0)\n",
      "Requirement already satisfied: jsonschema>=2.6 in c:\\users\\33668\\appdata\\local\\programs\\python\\python312\\lib\\site-packages (from nbformat) (4.23.0)\n",
      "Requirement already satisfied: jupyter-core!=5.0.*,>=4.12 in c:\\users\\33668\\appdata\\roaming\\python\\python312\\site-packages (from nbformat) (5.7.2)\n",
      "Requirement already satisfied: traitlets>=5.1 in c:\\users\\33668\\appdata\\roaming\\python\\python312\\site-packages (from nbformat) (5.14.3)\n",
      "Requirement already satisfied: scipy!=1.9.2,>=1.8 in c:\\users\\33668\\appdata\\local\\programs\\python\\python312\\lib\\site-packages (from statsmodels) (1.14.1)\n",
      "Requirement already satisfied: patsy>=0.5.6 in c:\\users\\33668\\appdata\\local\\programs\\python\\python312\\lib\\site-packages (from statsmodels) (1.0.1)\n",
      "Requirement already satisfied: attrs>=22.2.0 in c:\\users\\33668\\appdata\\local\\programs\\python\\python312\\lib\\site-packages (from jsonschema>=2.6->nbformat) (24.2.0)\n",
      "Requirement already satisfied: jsonschema-specifications>=2023.03.6 in c:\\users\\33668\\appdata\\local\\programs\\python\\python312\\lib\\site-packages (from jsonschema>=2.6->nbformat) (2024.10.1)\n",
      "Requirement already satisfied: referencing>=0.28.4 in c:\\users\\33668\\appdata\\local\\programs\\python\\python312\\lib\\site-packages (from jsonschema>=2.6->nbformat) (0.35.1)\n",
      "Requirement already satisfied: rpds-py>=0.7.1 in c:\\users\\33668\\appdata\\local\\programs\\python\\python312\\lib\\site-packages (from jsonschema>=2.6->nbformat) (0.21.0)\n",
      "Requirement already satisfied: platformdirs>=2.5 in c:\\users\\33668\\appdata\\roaming\\python\\python312\\site-packages (from jupyter-core!=5.0.*,>=4.12->nbformat) (4.3.6)\n",
      "Requirement already satisfied: pywin32>=300 in c:\\users\\33668\\appdata\\roaming\\python\\python312\\site-packages (from jupyter-core!=5.0.*,>=4.12->nbformat) (308)\n",
      "Requirement already satisfied: six>=1.5 in c:\\users\\33668\\appdata\\roaming\\python\\python312\\site-packages (from python-dateutil>=2.8.2->pandas) (1.16.0)\n",
      "Note: you may need to restart the kernel to use updated packages.\n"
     ]
    },
    {
     "name": "stderr",
     "output_type": "stream",
     "text": [
      "\n",
      "[notice] A new release of pip is available: 24.0 -> 24.3.1\n",
      "[notice] To update, run: python.exe -m pip install --upgrade pip\n"
     ]
    }
   ],
   "source": [
    "%pip install plotly pandas nbformat statsmodels"
   ]
  },
  {
   "cell_type": "markdown",
   "metadata": {},
   "source": [
    "# Data cleaning"
   ]
  },
  {
   "cell_type": "code",
   "execution_count": 13,
   "metadata": {},
   "outputs": [
    {
     "name": "stdout",
     "output_type": "stream",
     "text": [
      "Number of employees in the year 2008,00: 2196252.0\n",
      "Number of employees in the year 2009,00: 2307256.0\n",
      "Number of employees in the year 2010,00: 2458245.0\n",
      "Number of employees in the year 2011,00: 2477509.0\n",
      "Number of employees in the year 2012,00: 2482368.0\n",
      "Number of employees in the year 2013,00: 2521493.0\n",
      "Number of employees in the year 2014,00: 2522294.0\n",
      "Number of employees in the year 2015,00: 2542158.0\n",
      "Number of employees in the year 2016,00: 2562945.0\n",
      "Number of employees in the year 2017,00: 2621063.0\n",
      "Number of employees in the year 2018,00: 2696311.0\n",
      "Number of employees in the year 2019,00: 2777256.0\n",
      "Number of employees in the year 2020,00: 2795754.0\n",
      "Number of employees in the year 2021,00: 3081161.0\n"
     ]
    },
    {
     "data": {
      "text/html": [
       "<div>\n",
       "<style scoped>\n",
       "    .dataframe tbody tr th:only-of-type {\n",
       "        vertical-align: middle;\n",
       "    }\n",
       "\n",
       "    .dataframe tbody tr th {\n",
       "        vertical-align: top;\n",
       "    }\n",
       "\n",
       "    .dataframe thead th {\n",
       "        text-align: right;\n",
       "    }\n",
       "</style>\n",
       "<table border=\"1\" class=\"dataframe\">\n",
       "  <thead>\n",
       "    <tr style=\"text-align: right;\">\n",
       "      <th></th>\n",
       "      <th>Mesure (Unité de mesure combinée)</th>\n",
       "      <th>Domaine</th>\n",
       "      <th>2008</th>\n",
       "      <th>2009</th>\n",
       "      <th>2010</th>\n",
       "      <th>2011</th>\n",
       "      <th>2012</th>\n",
       "      <th>2013</th>\n",
       "      <th>2014</th>\n",
       "      <th>2015</th>\n",
       "      <th>2016</th>\n",
       "      <th>2017</th>\n",
       "      <th>2018</th>\n",
       "      <th>2019</th>\n",
       "      <th>2020</th>\n",
       "      <th>2021</th>\n",
       "    </tr>\n",
       "  </thead>\n",
       "  <tbody>\n",
       "    <tr>\n",
       "      <th>0</th>\n",
       "      <td>Emploi dans les activités de l'économie verte</td>\n",
       "      <td>Eco-activités</td>\n",
       "      <td>483281.0</td>\n",
       "      <td>515193.0</td>\n",
       "      <td>567175.0</td>\n",
       "      <td>569919.0</td>\n",
       "      <td>565869.0</td>\n",
       "      <td>569774.0</td>\n",
       "      <td>569289.0</td>\n",
       "      <td>577332.0</td>\n",
       "      <td>579211.0</td>\n",
       "      <td>599790.0</td>\n",
       "      <td>622177.0</td>\n",
       "      <td>646391.0</td>\n",
       "      <td>666845.0</td>\n",
       "      <td>745641.0</td>\n",
       "    </tr>\n",
       "    <tr>\n",
       "      <th>1</th>\n",
       "      <td>Emploi dans les activités de l'économie verte</td>\n",
       "      <td>Protection de l'environnement</td>\n",
       "      <td>225531.0</td>\n",
       "      <td>237707.0</td>\n",
       "      <td>249466.0</td>\n",
       "      <td>255730.0</td>\n",
       "      <td>264786.0</td>\n",
       "      <td>268265.0</td>\n",
       "      <td>273149.0</td>\n",
       "      <td>278378.0</td>\n",
       "      <td>281655.0</td>\n",
       "      <td>291438.0</td>\n",
       "      <td>310348.0</td>\n",
       "      <td>328633.0</td>\n",
       "      <td>343500.0</td>\n",
       "      <td>366318.0</td>\n",
       "    </tr>\n",
       "    <tr>\n",
       "      <th>2</th>\n",
       "      <td>Emploi dans les activités de l'économie verte</td>\n",
       "      <td>Air</td>\n",
       "      <td>8372.0</td>\n",
       "      <td>7188.0</td>\n",
       "      <td>6843.0</td>\n",
       "      <td>6362.0</td>\n",
       "      <td>6791.0</td>\n",
       "      <td>7204.0</td>\n",
       "      <td>7369.0</td>\n",
       "      <td>7994.0</td>\n",
       "      <td>7848.0</td>\n",
       "      <td>8237.0</td>\n",
       "      <td>9049.0</td>\n",
       "      <td>9342.0</td>\n",
       "      <td>11502.0</td>\n",
       "      <td>12464.0</td>\n",
       "    </tr>\n",
       "    <tr>\n",
       "      <th>3</th>\n",
       "      <td>Emploi dans les activités de l'économie verte</td>\n",
       "      <td>Eaux_usées</td>\n",
       "      <td>59768.0</td>\n",
       "      <td>60562.0</td>\n",
       "      <td>60121.0</td>\n",
       "      <td>58061.0</td>\n",
       "      <td>55643.0</td>\n",
       "      <td>57256.0</td>\n",
       "      <td>57462.0</td>\n",
       "      <td>55285.0</td>\n",
       "      <td>53488.0</td>\n",
       "      <td>54444.0</td>\n",
       "      <td>54147.0</td>\n",
       "      <td>54721.0</td>\n",
       "      <td>53489.0</td>\n",
       "      <td>57741.0</td>\n",
       "    </tr>\n",
       "    <tr>\n",
       "      <th>4</th>\n",
       "      <td>Emploi dans les activités de l'économie verte</td>\n",
       "      <td>Déchets</td>\n",
       "      <td>85417.0</td>\n",
       "      <td>88199.0</td>\n",
       "      <td>92250.0</td>\n",
       "      <td>95733.0</td>\n",
       "      <td>100457.0</td>\n",
       "      <td>100009.0</td>\n",
       "      <td>103170.0</td>\n",
       "      <td>103537.0</td>\n",
       "      <td>99012.0</td>\n",
       "      <td>95985.0</td>\n",
       "      <td>99297.0</td>\n",
       "      <td>101353.0</td>\n",
       "      <td>100253.0</td>\n",
       "      <td>101973.0</td>\n",
       "    </tr>\n",
       "    <tr>\n",
       "      <th>5</th>\n",
       "      <td>Emploi dans les activités de l'économie verte</td>\n",
       "      <td>Déchets_radio</td>\n",
       "      <td>3546.0</td>\n",
       "      <td>3756.0</td>\n",
       "      <td>3621.0</td>\n",
       "      <td>4078.0</td>\n",
       "      <td>3707.0</td>\n",
       "      <td>3416.0</td>\n",
       "      <td>3575.0</td>\n",
       "      <td>3443.0</td>\n",
       "      <td>3452.0</td>\n",
       "      <td>3110.0</td>\n",
       "      <td>2797.0</td>\n",
       "      <td>3072.0</td>\n",
       "      <td>3275.0</td>\n",
       "      <td>3541.0</td>\n",
       "    </tr>\n",
       "    <tr>\n",
       "      <th>6</th>\n",
       "      <td>Emploi dans les activités de l'économie verte</td>\n",
       "      <td>Sols et masses d'eau</td>\n",
       "      <td>38919.0</td>\n",
       "      <td>47294.0</td>\n",
       "      <td>56588.0</td>\n",
       "      <td>61946.0</td>\n",
       "      <td>67328.0</td>\n",
       "      <td>69385.0</td>\n",
       "      <td>71145.0</td>\n",
       "      <td>77476.0</td>\n",
       "      <td>86643.0</td>\n",
       "      <td>98334.0</td>\n",
       "      <td>111749.0</td>\n",
       "      <td>126342.0</td>\n",
       "      <td>139586.0</td>\n",
       "      <td>151839.0</td>\n",
       "    </tr>\n",
       "    <tr>\n",
       "      <th>7</th>\n",
       "      <td>Emploi dans les activités de l'économie verte</td>\n",
       "      <td>Bruit</td>\n",
       "      <td>6873.0</td>\n",
       "      <td>6614.0</td>\n",
       "      <td>5523.0</td>\n",
       "      <td>5061.0</td>\n",
       "      <td>5656.0</td>\n",
       "      <td>5229.0</td>\n",
       "      <td>4955.0</td>\n",
       "      <td>4667.0</td>\n",
       "      <td>4790.0</td>\n",
       "      <td>4866.0</td>\n",
       "      <td>4591.0</td>\n",
       "      <td>4234.0</td>\n",
       "      <td>4389.0</td>\n",
       "      <td>5438.0</td>\n",
       "    </tr>\n",
       "    <tr>\n",
       "      <th>8</th>\n",
       "      <td>Emploi dans les activités de l'économie verte</td>\n",
       "      <td>Nature, biodiversité, paysages</td>\n",
       "      <td>22635.0</td>\n",
       "      <td>24095.0</td>\n",
       "      <td>24518.0</td>\n",
       "      <td>24490.0</td>\n",
       "      <td>25204.0</td>\n",
       "      <td>25765.0</td>\n",
       "      <td>25473.0</td>\n",
       "      <td>25977.0</td>\n",
       "      <td>26421.0</td>\n",
       "      <td>26461.0</td>\n",
       "      <td>28719.0</td>\n",
       "      <td>29570.0</td>\n",
       "      <td>31007.0</td>\n",
       "      <td>33323.0</td>\n",
       "    </tr>\n",
       "    <tr>\n",
       "      <th>9</th>\n",
       "      <td>Emploi dans les activités de l'économie verte</td>\n",
       "      <td>Gestion des ressources naturelles</td>\n",
       "      <td>182238.0</td>\n",
       "      <td>200281.0</td>\n",
       "      <td>230652.0</td>\n",
       "      <td>224234.0</td>\n",
       "      <td>213997.0</td>\n",
       "      <td>213502.0</td>\n",
       "      <td>208710.0</td>\n",
       "      <td>214739.0</td>\n",
       "      <td>215915.0</td>\n",
       "      <td>227918.0</td>\n",
       "      <td>233015.0</td>\n",
       "      <td>236637.0</td>\n",
       "      <td>241882.0</td>\n",
       "      <td>285898.0</td>\n",
       "    </tr>\n",
       "    <tr>\n",
       "      <th>10</th>\n",
       "      <td>Emploi dans les activités de l'économie verte</td>\n",
       "      <td>gestion_eau</td>\n",
       "      <td>3953.0</td>\n",
       "      <td>4416.0</td>\n",
       "      <td>4528.0</td>\n",
       "      <td>4453.0</td>\n",
       "      <td>4434.0</td>\n",
       "      <td>4209.0</td>\n",
       "      <td>3952.0</td>\n",
       "      <td>4143.0</td>\n",
       "      <td>4094.0</td>\n",
       "      <td>3981.0</td>\n",
       "      <td>4621.0</td>\n",
       "      <td>4820.0</td>\n",
       "      <td>3955.0</td>\n",
       "      <td>4508.0</td>\n",
       "    </tr>\n",
       "    <tr>\n",
       "      <th>11</th>\n",
       "      <td>Emploi dans les activités de l'économie verte</td>\n",
       "      <td>gestion_forêt</td>\n",
       "      <td>11711.0</td>\n",
       "      <td>12282.0</td>\n",
       "      <td>11317.0</td>\n",
       "      <td>10607.0</td>\n",
       "      <td>10484.0</td>\n",
       "      <td>11347.0</td>\n",
       "      <td>10050.0</td>\n",
       "      <td>10138.0</td>\n",
       "      <td>9891.0</td>\n",
       "      <td>10642.0</td>\n",
       "      <td>11412.0</td>\n",
       "      <td>10288.0</td>\n",
       "      <td>10590.0</td>\n",
       "      <td>10484.0</td>\n",
       "    </tr>\n",
       "    <tr>\n",
       "      <th>12</th>\n",
       "      <td>Emploi dans les activités de l'économie verte</td>\n",
       "      <td>recup</td>\n",
       "      <td>24950.0</td>\n",
       "      <td>25129.0</td>\n",
       "      <td>25091.0</td>\n",
       "      <td>25750.0</td>\n",
       "      <td>26913.0</td>\n",
       "      <td>26653.0</td>\n",
       "      <td>26314.0</td>\n",
       "      <td>26108.0</td>\n",
       "      <td>26928.0</td>\n",
       "      <td>27059.0</td>\n",
       "      <td>28000.0</td>\n",
       "      <td>29583.0</td>\n",
       "      <td>28536.0</td>\n",
       "      <td>34216.0</td>\n",
       "    </tr>\n",
       "    <tr>\n",
       "      <th>13</th>\n",
       "      <td>Emploi dans les activités de l'économie verte</td>\n",
       "      <td>EnR</td>\n",
       "      <td>56744.0</td>\n",
       "      <td>60681.0</td>\n",
       "      <td>83468.0</td>\n",
       "      <td>82022.0</td>\n",
       "      <td>69723.0</td>\n",
       "      <td>66464.0</td>\n",
       "      <td>65486.0</td>\n",
       "      <td>66178.0</td>\n",
       "      <td>66583.0</td>\n",
       "      <td>70880.0</td>\n",
       "      <td>74593.0</td>\n",
       "      <td>84962.0</td>\n",
       "      <td>94943.0</td>\n",
       "      <td>109781.0</td>\n",
       "    </tr>\n",
       "    <tr>\n",
       "      <th>14</th>\n",
       "      <td>Emploi dans les activités de l'économie verte</td>\n",
       "      <td>Maîtrise énergie</td>\n",
       "      <td>84880.0</td>\n",
       "      <td>97773.0</td>\n",
       "      <td>106248.0</td>\n",
       "      <td>101403.0</td>\n",
       "      <td>102444.0</td>\n",
       "      <td>104829.0</td>\n",
       "      <td>102908.0</td>\n",
       "      <td>108171.0</td>\n",
       "      <td>108420.0</td>\n",
       "      <td>115356.0</td>\n",
       "      <td>114389.0</td>\n",
       "      <td>106985.0</td>\n",
       "      <td>103858.0</td>\n",
       "      <td>126908.0</td>\n",
       "    </tr>\n",
       "    <tr>\n",
       "      <th>15</th>\n",
       "      <td>Emploi dans les activités de l'économie verte</td>\n",
       "      <td>Activités transversales</td>\n",
       "      <td>75512.0</td>\n",
       "      <td>77204.0</td>\n",
       "      <td>87058.0</td>\n",
       "      <td>89955.0</td>\n",
       "      <td>87086.0</td>\n",
       "      <td>88007.0</td>\n",
       "      <td>87430.0</td>\n",
       "      <td>84215.0</td>\n",
       "      <td>81640.0</td>\n",
       "      <td>80434.0</td>\n",
       "      <td>78813.0</td>\n",
       "      <td>81120.0</td>\n",
       "      <td>81464.0</td>\n",
       "      <td>93426.0</td>\n",
       "    </tr>\n",
       "    <tr>\n",
       "      <th>16</th>\n",
       "      <td>Emploi dans les activités de l'économie verte</td>\n",
       "      <td>Ingénierie</td>\n",
       "      <td>10705.0</td>\n",
       "      <td>11244.0</td>\n",
       "      <td>11154.0</td>\n",
       "      <td>13305.0</td>\n",
       "      <td>13204.0</td>\n",
       "      <td>12694.0</td>\n",
       "      <td>12683.0</td>\n",
       "      <td>12467.0</td>\n",
       "      <td>10930.0</td>\n",
       "      <td>12097.0</td>\n",
       "      <td>11841.0</td>\n",
       "      <td>12536.0</td>\n",
       "      <td>12338.0</td>\n",
       "      <td>13653.0</td>\n",
       "    </tr>\n",
       "    <tr>\n",
       "      <th>17</th>\n",
       "      <td>Emploi dans les activités de l'économie verte</td>\n",
       "      <td>R&amp;D</td>\n",
       "      <td>20594.0</td>\n",
       "      <td>23668.0</td>\n",
       "      <td>23531.0</td>\n",
       "      <td>27370.0</td>\n",
       "      <td>27833.0</td>\n",
       "      <td>28621.0</td>\n",
       "      <td>28362.0</td>\n",
       "      <td>27205.0</td>\n",
       "      <td>25269.0</td>\n",
       "      <td>24033.0</td>\n",
       "      <td>22214.0</td>\n",
       "      <td>23383.0</td>\n",
       "      <td>23323.0</td>\n",
       "      <td>27048.0</td>\n",
       "    </tr>\n",
       "    <tr>\n",
       "      <th>18</th>\n",
       "      <td>Emploi dans les activités de l'économie verte</td>\n",
       "      <td>Serv gaux</td>\n",
       "      <td>44212.0</td>\n",
       "      <td>42292.0</td>\n",
       "      <td>52373.0</td>\n",
       "      <td>49280.0</td>\n",
       "      <td>46049.0</td>\n",
       "      <td>46692.0</td>\n",
       "      <td>46385.0</td>\n",
       "      <td>44543.0</td>\n",
       "      <td>45442.0</td>\n",
       "      <td>44304.0</td>\n",
       "      <td>44758.0</td>\n",
       "      <td>45201.0</td>\n",
       "      <td>45803.0</td>\n",
       "      <td>52724.0</td>\n",
       "    </tr>\n",
       "    <tr>\n",
       "      <th>19</th>\n",
       "      <td>Emploi dans les activités de l'économie verte</td>\n",
       "      <td>Activités périphériques</td>\n",
       "      <td>373205.0</td>\n",
       "      <td>380839.0</td>\n",
       "      <td>378360.0</td>\n",
       "      <td>383875.0</td>\n",
       "      <td>392380.0</td>\n",
       "      <td>406086.0</td>\n",
       "      <td>407213.0</td>\n",
       "      <td>405081.0</td>\n",
       "      <td>412657.0</td>\n",
       "      <td>410847.0</td>\n",
       "      <td>414891.0</td>\n",
       "      <td>419042.0</td>\n",
       "      <td>397608.0</td>\n",
       "      <td>422119.0</td>\n",
       "    </tr>\n",
       "    <tr>\n",
       "      <th>20</th>\n",
       "      <td>Emploi dans les activités de l'économie verte</td>\n",
       "      <td>Gestion des espaces verts</td>\n",
       "      <td>22884.0</td>\n",
       "      <td>23197.0</td>\n",
       "      <td>23721.0</td>\n",
       "      <td>23129.0</td>\n",
       "      <td>24519.0</td>\n",
       "      <td>25482.0</td>\n",
       "      <td>27338.0</td>\n",
       "      <td>25446.0</td>\n",
       "      <td>27300.0</td>\n",
       "      <td>27891.0</td>\n",
       "      <td>29990.0</td>\n",
       "      <td>31735.0</td>\n",
       "      <td>35471.0</td>\n",
       "      <td>41808.0</td>\n",
       "    </tr>\n",
       "    <tr>\n",
       "      <th>21</th>\n",
       "      <td>Emploi dans les activités de l'économie verte</td>\n",
       "      <td>Transports longue distance</td>\n",
       "      <td>260460.0</td>\n",
       "      <td>265397.0</td>\n",
       "      <td>262743.0</td>\n",
       "      <td>267558.0</td>\n",
       "      <td>275071.0</td>\n",
       "      <td>285304.0</td>\n",
       "      <td>282750.0</td>\n",
       "      <td>280569.0</td>\n",
       "      <td>285811.0</td>\n",
       "      <td>284999.0</td>\n",
       "      <td>285440.0</td>\n",
       "      <td>284804.0</td>\n",
       "      <td>261111.0</td>\n",
       "      <td>275849.0</td>\n",
       "    </tr>\n",
       "    <tr>\n",
       "      <th>22</th>\n",
       "      <td>Emploi dans les activités de l'économie verte</td>\n",
       "      <td>Transports urbains et suburbains</td>\n",
       "      <td>89862.0</td>\n",
       "      <td>92245.0</td>\n",
       "      <td>91896.0</td>\n",
       "      <td>93188.0</td>\n",
       "      <td>92790.0</td>\n",
       "      <td>95300.0</td>\n",
       "      <td>97126.0</td>\n",
       "      <td>99066.0</td>\n",
       "      <td>99545.0</td>\n",
       "      <td>97957.0</td>\n",
       "      <td>99460.0</td>\n",
       "      <td>102502.0</td>\n",
       "      <td>101026.0</td>\n",
       "      <td>104461.0</td>\n",
       "    </tr>\n",
       "  </tbody>\n",
       "</table>\n",
       "</div>"
      ],
      "text/plain": [
       "                Mesure (Unité de mesure combinée)  \\\n",
       "0   Emploi dans les activités de l'économie verte   \n",
       "1   Emploi dans les activités de l'économie verte   \n",
       "2   Emploi dans les activités de l'économie verte   \n",
       "3   Emploi dans les activités de l'économie verte   \n",
       "4   Emploi dans les activités de l'économie verte   \n",
       "5   Emploi dans les activités de l'économie verte   \n",
       "6   Emploi dans les activités de l'économie verte   \n",
       "7   Emploi dans les activités de l'économie verte   \n",
       "8   Emploi dans les activités de l'économie verte   \n",
       "9   Emploi dans les activités de l'économie verte   \n",
       "10  Emploi dans les activités de l'économie verte   \n",
       "11  Emploi dans les activités de l'économie verte   \n",
       "12  Emploi dans les activités de l'économie verte   \n",
       "13  Emploi dans les activités de l'économie verte   \n",
       "14  Emploi dans les activités de l'économie verte   \n",
       "15  Emploi dans les activités de l'économie verte   \n",
       "16  Emploi dans les activités de l'économie verte   \n",
       "17  Emploi dans les activités de l'économie verte   \n",
       "18  Emploi dans les activités de l'économie verte   \n",
       "19  Emploi dans les activités de l'économie verte   \n",
       "20  Emploi dans les activités de l'économie verte   \n",
       "21  Emploi dans les activités de l'économie verte   \n",
       "22  Emploi dans les activités de l'économie verte   \n",
       "\n",
       "                              Domaine      2008      2009      2010      2011  \\\n",
       "0                       Eco-activités  483281.0  515193.0  567175.0  569919.0   \n",
       "1       Protection de l'environnement  225531.0  237707.0  249466.0  255730.0   \n",
       "2                                 Air    8372.0    7188.0    6843.0    6362.0   \n",
       "3                          Eaux_usées   59768.0   60562.0   60121.0   58061.0   \n",
       "4                             Déchets   85417.0   88199.0   92250.0   95733.0   \n",
       "5                       Déchets_radio    3546.0    3756.0    3621.0    4078.0   \n",
       "6                Sols et masses d'eau   38919.0   47294.0   56588.0   61946.0   \n",
       "7                               Bruit    6873.0    6614.0    5523.0    5061.0   \n",
       "8      Nature, biodiversité, paysages   22635.0   24095.0   24518.0   24490.0   \n",
       "9   Gestion des ressources naturelles  182238.0  200281.0  230652.0  224234.0   \n",
       "10                        gestion_eau    3953.0    4416.0    4528.0    4453.0   \n",
       "11                      gestion_forêt   11711.0   12282.0   11317.0   10607.0   \n",
       "12                              recup   24950.0   25129.0   25091.0   25750.0   \n",
       "13                                EnR   56744.0   60681.0   83468.0   82022.0   \n",
       "14                   Maîtrise énergie   84880.0   97773.0  106248.0  101403.0   \n",
       "15            Activités transversales   75512.0   77204.0   87058.0   89955.0   \n",
       "16                         Ingénierie   10705.0   11244.0   11154.0   13305.0   \n",
       "17                                R&D   20594.0   23668.0   23531.0   27370.0   \n",
       "18                          Serv gaux   44212.0   42292.0   52373.0   49280.0   \n",
       "19            Activités périphériques  373205.0  380839.0  378360.0  383875.0   \n",
       "20          Gestion des espaces verts   22884.0   23197.0   23721.0   23129.0   \n",
       "21         Transports longue distance  260460.0  265397.0  262743.0  267558.0   \n",
       "22   Transports urbains et suburbains   89862.0   92245.0   91896.0   93188.0   \n",
       "\n",
       "        2012      2013      2014      2015      2016      2017      2018  \\\n",
       "0   565869.0  569774.0  569289.0  577332.0  579211.0  599790.0  622177.0   \n",
       "1   264786.0  268265.0  273149.0  278378.0  281655.0  291438.0  310348.0   \n",
       "2     6791.0    7204.0    7369.0    7994.0    7848.0    8237.0    9049.0   \n",
       "3    55643.0   57256.0   57462.0   55285.0   53488.0   54444.0   54147.0   \n",
       "4   100457.0  100009.0  103170.0  103537.0   99012.0   95985.0   99297.0   \n",
       "5     3707.0    3416.0    3575.0    3443.0    3452.0    3110.0    2797.0   \n",
       "6    67328.0   69385.0   71145.0   77476.0   86643.0   98334.0  111749.0   \n",
       "7     5656.0    5229.0    4955.0    4667.0    4790.0    4866.0    4591.0   \n",
       "8    25204.0   25765.0   25473.0   25977.0   26421.0   26461.0   28719.0   \n",
       "9   213997.0  213502.0  208710.0  214739.0  215915.0  227918.0  233015.0   \n",
       "10    4434.0    4209.0    3952.0    4143.0    4094.0    3981.0    4621.0   \n",
       "11   10484.0   11347.0   10050.0   10138.0    9891.0   10642.0   11412.0   \n",
       "12   26913.0   26653.0   26314.0   26108.0   26928.0   27059.0   28000.0   \n",
       "13   69723.0   66464.0   65486.0   66178.0   66583.0   70880.0   74593.0   \n",
       "14  102444.0  104829.0  102908.0  108171.0  108420.0  115356.0  114389.0   \n",
       "15   87086.0   88007.0   87430.0   84215.0   81640.0   80434.0   78813.0   \n",
       "16   13204.0   12694.0   12683.0   12467.0   10930.0   12097.0   11841.0   \n",
       "17   27833.0   28621.0   28362.0   27205.0   25269.0   24033.0   22214.0   \n",
       "18   46049.0   46692.0   46385.0   44543.0   45442.0   44304.0   44758.0   \n",
       "19  392380.0  406086.0  407213.0  405081.0  412657.0  410847.0  414891.0   \n",
       "20   24519.0   25482.0   27338.0   25446.0   27300.0   27891.0   29990.0   \n",
       "21  275071.0  285304.0  282750.0  280569.0  285811.0  284999.0  285440.0   \n",
       "22   92790.0   95300.0   97126.0   99066.0   99545.0   97957.0   99460.0   \n",
       "\n",
       "        2019      2020      2021  \n",
       "0   646391.0  666845.0  745641.0  \n",
       "1   328633.0  343500.0  366318.0  \n",
       "2     9342.0   11502.0   12464.0  \n",
       "3    54721.0   53489.0   57741.0  \n",
       "4   101353.0  100253.0  101973.0  \n",
       "5     3072.0    3275.0    3541.0  \n",
       "6   126342.0  139586.0  151839.0  \n",
       "7     4234.0    4389.0    5438.0  \n",
       "8    29570.0   31007.0   33323.0  \n",
       "9   236637.0  241882.0  285898.0  \n",
       "10    4820.0    3955.0    4508.0  \n",
       "11   10288.0   10590.0   10484.0  \n",
       "12   29583.0   28536.0   34216.0  \n",
       "13   84962.0   94943.0  109781.0  \n",
       "14  106985.0  103858.0  126908.0  \n",
       "15   81120.0   81464.0   93426.0  \n",
       "16   12536.0   12338.0   13653.0  \n",
       "17   23383.0   23323.0   27048.0  \n",
       "18   45201.0   45803.0   52724.0  \n",
       "19  419042.0  397608.0  422119.0  \n",
       "20   31735.0   35471.0   41808.0  \n",
       "21  284804.0  261111.0  275849.0  \n",
       "22  102502.0  101026.0  104461.0  "
      ]
     },
     "execution_count": 13,
     "metadata": {},
     "output_type": "execute_result"
    }
   ],
   "source": [
    "import pandas as pd\n",
    "\n",
    "\n",
    "def clean_dataset():\n",
    "    with open(r'data_initial\\dataset2_emplois.csv',encoding='UTF-8') as f:\n",
    "        dataset2 = pd.read_csv(f)\n",
    "\n",
    "    def remove_space(dataframe):\n",
    "        for column in dataframe.columns[2::]:\n",
    "            dataframe[column] = dataframe[column].astype(str).str.replace(' ', '').str.replace(',', '.').astype(float)\n",
    "        return dataframe\n",
    "\n",
    "    df_final = remove_space(dataset2)\n",
    "\n",
    "    # Calculate the sum of each column from the 2nd column (that contains the numbers of employees) to the last column\n",
    "    sum_column = df_final.columns[2::]\n",
    "    for column in sum_column:\n",
    "        print(f\"Number of employees in the year {column}: {df_final[column].sum()}\")\n",
    "\n",
    "    # Rename the columns with the years to remove decimals\n",
    "    rename_dict = {f'{year},00': str(year) for year in range(2008, 2022)}\n",
    "    df_final.rename(columns=rename_dict, inplace=True)\n",
    "\n",
    "    # Remove 'Total Général rows' and values in % rows\n",
    "    df_final.drop(df_final[(df_final['Domaine'] == 'Total général') | (df_final['Domaine'] == 'Évolution annuelle en %')].index, inplace=True)\n",
    "\n",
    "    # Save the dataset to a csv file to make tests and have a final working file. This data will be used and put in dataset_gdp.csv that will include our cleaned data and some parameters that we will use in our model\n",
    "    with open(r'data_output\\data_emplois_cleaned.csv', 'w', newline='', encoding='UTF-8') as f:\n",
    "        df_final.to_csv(f, index=False)\n",
    "    \n",
    "    return df_final\n",
    "\n",
    "clean_dataset()"
   ]
  },
  {
   "cell_type": "markdown",
   "metadata": {},
   "source": [
    "# Our Model"
   ]
  },
  {
   "cell_type": "code",
   "execution_count": 14,
   "metadata": {},
   "outputs": [],
   "source": [
    "import pandas as pd\n",
    "import statsmodels.api as sm\n",
    "import numpy as np\n",
    "from statsmodels.stats.outliers_influence import variance_inflation_factor\n",
    "import plotly.express as px\n",
    "import plotly.graph_objects as go\n",
    "\n",
    "# Charger les données\n",
    "data = pd.read_csv('data_output/dataset_gdp.csv')\n",
    "\n",
    "# Restructurer les données d'emploi\n",
    "data_long = data.melt(\n",
    "    id_vars=[\"Mesure (Unité de mesure combinée)\", \"Domaine\"],\n",
    "    var_name=\"Année\",\n",
    "    value_name=\"Nombre d'emplois\"\n",
    ")\n",
    "data_long[\"Année\"] = pd.to_numeric(data_long[\"Année\"], errors=\"coerce\")\n",
    "\n",
    "# Enlever les lignes avec des valeurs manquantes\n",
    "data_long = data_long.dropna()\n",
    "\n",
    "# Filtrer les lignes où Domaine est \"Tout\", lignes qui combinent les domaines\n",
    "data_long = data_long[data_long[\"Domaine\"] != \"Tout\"]\n",
    "\n",
    "# Supprimer les doublons dans data_long\n",
    "data_long = data_long.drop_duplicates(subset=[\"Année\", \"Domaine\"])\n",
    "\n",
    "# Extraire et restructurer les paramètres\n",
    "param_data = data.iloc[42:64]\n",
    "params_long = param_data.melt(\n",
    "    id_vars=[\"Mesure (Unité de mesure combinée)\", \"Domaine\"],\n",
    "    var_name=\"Année\",\n",
    "    value_name=\"Valeur\"\n",
    ")\n",
    "params_long[\"Année\"] = pd.to_numeric(params_long[\"Année\"], errors=\"coerce\")\n",
    "\n",
    "# Filtrer les lignes où Domaine est \"Tout\" dans params_long\n",
    "params_long = params_long[params_long[\"Domaine\"] != \"Tout\"]\n",
    "\n",
    "# Renommer la colonne Domaine dans params_long pour éviter les confusions\n",
    "params_long = params_long.rename(columns={\"Domaine\": \"Paramètre\"})\n",
    "\n",
    "# Fusionner les données\n",
    "merged_data = pd.merge(\n",
    "    data_long,\n",
    "    params_long,\n",
    "    on=\"Année\",\n",
    "    how=\"inner\"\n",
    ")\n",
    "\n",
    "# Renommer les colonnes pour clarification\n",
    "merged_data = merged_data.rename(columns={\n",
    "    \"Domaine\": \"Domaine_emploi\",  # Domaine réel des emplois\n",
    "    \"Paramètre\": \"Nom_paramètre\"  # Nom des paramètres fusionnés\n",
    "})\n",
    "\n",
    "# Filtrer les lignes où Domaine_emploi est \"Tout\" après la fusion\n",
    "merged_data = merged_data[merged_data[\"Domaine_emploi\"] != \"Tout\"]\n",
    "\n",
    "# Supprimer les doublons si nécessaire\n",
    "merged_data = merged_data.drop_duplicates(subset=[\"Année\", \"Domaine_emploi\"])\n",
    "\n",
    "# Liste des domaines uniques\n",
    "domaines = merged_data[\"Domaine_emploi\"].unique()\n",
    "\n",
    "# Années futures pour les prédictions\n",
    "future_years = np.arange(2022, 2051)\n",
    "\n",
    "# Stocker les projections et les métriques\n",
    "final_projections = []\n",
    "model_metrics = []\n",
    "augmentation_data = []\n",
    "\n",
    "# Ajuster et prédire pour chaque domaine\n",
    "for domaine in domaines:\n",
    "    # Filtrer les données pour un domaine spécifique\n",
    "    domaine_data = merged_data[merged_data[\"Domaine_emploi\"] == domaine]\n",
    "    \n",
    "    # Extraire les variables indépendantes (X) et dépendantes (y)\n",
    "    X = domaine_data[[\"Année\", \"Valeur\"]].dropna()\n",
    "    y = domaine_data.loc[X.index, \"Nombre d'emplois\"]\n",
    "    \n",
    "    if X.empty or y.empty:\n",
    "        continue  # Passer si pas assez de données pour ce domaine\n",
    "    \n",
    "    # Ajouter une constante pour le modèle\n",
    "    X = sm.add_constant(X)\n",
    "    \n",
    "    # Calcul du VIF\n",
    "    vif_data = pd.DataFrame()\n",
    "    vif_data[\"Variable\"] = X.columns\n",
    "    vif_data[\"VIF\"] = [variance_inflation_factor(X.values, i) for i in range(X.shape[1])]\n",
    "    \n",
    "    # Ajuster le modèle de régression\n",
    "    model = sm.OLS(y, X).fit()\n",
    "    \n",
    "    # Stocker les métriques\n",
    "    model_metrics.append({\n",
    "        \"Domaine\": domaine,\n",
    "        \"R2\": model.rsquared,\n",
    "        \"R2 ajusté\": model.rsquared_adj,\n",
    "        \"P-valeur (F-stat)\": model.f_pvalue,\n",
    "        \"VIF\": vif_data.to_dict(orient=\"records\")\n",
    "    })\n",
    "    \n",
    "    # Préparer les prédicteurs pour les années futures\n",
    "    future_data = pd.DataFrame({\n",
    "        \"Année\": future_years,\n",
    "        \"Valeur\": [X[\"Valeur\"].mean()] * len(future_years)  # Moyenne des paramètres\n",
    "    })\n",
    "    future_X = sm.add_constant(future_data, has_constant=\"add\")\n",
    "    \n",
    "    # Effectuer les prédictions\n",
    "    future_predictions = model.predict(future_X)\n",
    "    \n",
    "    # Stocker les résultats dans la liste\n",
    "    for year, pred in zip(future_years, future_predictions):\n",
    "        final_projections.append({\n",
    "            \"Domaine\": domaine,\n",
    "            \"Année\": year,\n",
    "            \"Nombre d'emplois (prédit)\": pred\n",
    "        })\n",
    "    \n",
    "    # Calculer l'augmentation prévue pour ce domaine\n",
    "    augmentation = future_predictions.iloc[-1] - future_predictions.iloc[0]\n",
    "    augmentation_data.append({\"Domaine\": domaine, \"Augmentation\": augmentation})\n",
    "\n",
    "# Convertir les résultats en DataFrame\n",
    "final_projections_df = pd.DataFrame(final_projections)\n",
    "\n",
    "# Sauvegarder les prédictions dans un fichier CSV\n",
    "final_projections_df.to_csv(\"data_output/projections_emplois_2050.csv\", index=False)\n",
    "\n"
   ]
  },
  {
   "cell_type": "markdown",
   "metadata": {},
   "source": [
    "# Resultats sur tous les domaines "
   ]
  },
  {
   "cell_type": "code",
   "execution_count": 15,
   "metadata": {},
   "outputs": [
    {
     "name": "stdout",
     "output_type": "stream",
     "text": [
      "\n",
      "--- Valeur totale de l'évolution de l'emploi pour tous les domaines ---\n",
      "Total de l'évolution de l'emploi: 744915.9487693491\n",
      "\n",
      "--- Métriques combinées pour tous les domaines ---\n",
      "R2 combiné: 0.5812357030540485\n",
      "R2 ajusté combiné: 0.5050967399729663\n",
      "P-valeur combinée (F-stat): 0.12329596294967453\n"
     ]
    },
    {
     "data": {
      "application/vnd.plotly.v1+json": {
       "config": {
        "plotlyServerURL": "https://plot.ly"
       },
       "data": [
        {
         "hovertemplate": "Domaine=Eco-activités<br>Année=%{x}<br>Nombre d'emplois (prédit)=%{y}<extra></extra>",
         "legendgroup": "Eco-activités",
         "line": {
          "color": "#636efa",
          "dash": "solid"
         },
         "marker": {
          "symbol": "circle"
         },
         "mode": "lines",
         "name": "Eco-activités",
         "orientation": "v",
         "showlegend": true,
         "type": "scatter",
         "x": [
          2022,
          2023,
          2024,
          2025,
          2026,
          2027,
          2028,
          2029,
          2030,
          2031,
          2032,
          2033,
          2034,
          2035,
          2036,
          2037,
          2038,
          2039,
          2040,
          2041,
          2042,
          2043,
          2044,
          2045,
          2046,
          2047,
          2048,
          2049,
          2050
         ],
         "xaxis": "x",
         "y": [
          633050.6973039671,
          638620.4378968771,
          644190.178489787,
          649759.919082697,
          655329.659675607,
          660899.400268517,
          666469.140861427,
          672038.8814543369,
          677608.6220472469,
          683178.362640155,
          688748.103233065,
          694317.843825975,
          699887.584418885,
          705457.3250117949,
          711027.0656047049,
          716596.8061976149,
          722166.5467905249,
          727736.2873834348,
          733306.0279763448,
          738875.7685692548,
          744445.5091621648,
          750015.2497550729,
          755584.9903479828,
          761154.7309408928,
          766724.4715338028,
          772294.2121267128,
          777863.9527196228,
          783433.6933125327,
          789003.4339054427
         ],
         "yaxis": "y"
        },
        {
         "hovertemplate": "Domaine=Protection de l'environnement<br>Année=%{x}<br>Nombre d'emplois (prédit)=%{y}<extra></extra>",
         "legendgroup": "Protection de l'environnement",
         "line": {
          "color": "#EF553B",
          "dash": "solid"
         },
         "marker": {
          "symbol": "circle"
         },
         "mode": "lines",
         "name": "Protection de l'environnement",
         "orientation": "v",
         "showlegend": true,
         "type": "scatter",
         "x": [
          2022,
          2023,
          2024,
          2025,
          2026,
          2027,
          2028,
          2029,
          2030,
          2031,
          2032,
          2033,
          2034,
          2035,
          2036,
          2037,
          2038,
          2039,
          2040,
          2041,
          2042,
          2043,
          2044,
          2045,
          2046,
          2047,
          2048,
          2049,
          2050
         ],
         "xaxis": "x",
         "y": [
          342711.39081146906,
          350550.01434823463,
          358388.6378850002,
          366227.2614217658,
          374065.88495853136,
          381904.50849529693,
          389743.1320320625,
          397581.7555688281,
          405420.37910559366,
          413259.00264235924,
          421097.6261791248,
          428936.2497158885,
          436774.8732526541,
          444613.4967894197,
          452452.12032618525,
          460290.7438629508,
          468129.3673997164,
          475967.990936482,
          483806.61447324755,
          491645.2380100131,
          499483.8615467787,
          507322.4850835443,
          515161.10862030985,
          522999.7321570754,
          530838.355693841,
          538676.9792306066,
          546515.6027673722,
          554354.2263041377,
          562192.8498409033
         ],
         "yaxis": "y"
        },
        {
         "hovertemplate": "Domaine=Air<br>Année=%{x}<br>Nombre d'emplois (prédit)=%{y}<extra></extra>",
         "legendgroup": "Air",
         "line": {
          "color": "#00cc96",
          "dash": "solid"
         },
         "marker": {
          "symbol": "circle"
         },
         "mode": "lines",
         "name": "Air",
         "orientation": "v",
         "showlegend": true,
         "type": "scatter",
         "x": [
          2022,
          2023,
          2024,
          2025,
          2026,
          2027,
          2028,
          2029,
          2030,
          2031,
          2032,
          2033,
          2034,
          2035,
          2036,
          2037,
          2038,
          2039,
          2040,
          2041,
          2042,
          2043,
          2044,
          2045,
          2046,
          2047,
          2048,
          2049,
          2050
         ],
         "xaxis": "x",
         "y": [
          11209.976955876748,
          11594.497692850713,
          11979.018429824679,
          12363.539166798644,
          12748.059903772493,
          13132.580640746459,
          13517.101377720424,
          13901.62211469439,
          14286.142851668355,
          14670.663588642205,
          15055.18432561617,
          15439.705062590136,
          15824.225799564101,
          16208.746536538067,
          16593.267273511916,
          16977.78801048588,
          17362.308747459847,
          17746.829484433812,
          18131.350221407778,
          18515.870958381627,
          18900.391695355593,
          19284.91243232956,
          19669.433169303524,
          20053.95390627749,
          20438.47464325134,
          20822.995380225304,
          21207.51611719927,
          21592.036854173235,
          21976.5575911472
         ],
         "yaxis": "y"
        },
        {
         "hovertemplate": "Domaine=Eaux_usées<br>Année=%{x}<br>Nombre d'emplois (prédit)=%{y}<extra></extra>",
         "legendgroup": "Eaux_usées",
         "line": {
          "color": "#ab63fa",
          "dash": "solid"
         },
         "marker": {
          "symbol": "circle"
         },
         "mode": "lines",
         "name": "Eaux_usées",
         "orientation": "v",
         "showlegend": true,
         "type": "scatter",
         "x": [
          2022,
          2023,
          2024,
          2025,
          2026,
          2027,
          2028,
          2029,
          2030,
          2031,
          2032,
          2033,
          2034,
          2035,
          2036,
          2037,
          2038,
          2039,
          2040,
          2041,
          2042,
          2043,
          2044,
          2045,
          2046,
          2047,
          2048,
          2049,
          2050
         ],
         "xaxis": "x",
         "y": [
          52127.2930758469,
          51532.95120024534,
          50938.60932464378,
          50344.26744904222,
          49749.92557344066,
          49155.5836978391,
          48561.241822237775,
          47966.899946636215,
          47372.558071034655,
          46778.216195433095,
          46183.874319831535,
          45589.532444229975,
          44995.190568628415,
          44400.848693026855,
          43806.50681742553,
          43212.16494182397,
          42617.82306622241,
          42023.48119062085,
          41429.13931501929,
          40834.79743941773,
          40240.45556381617,
          39646.11368821461,
          39051.77181261328,
          38457.42993701172,
          37863.08806141016,
          37268.7461858086,
          36674.40431020704,
          36080.06243460548,
          35485.72055900392
         ],
         "yaxis": "y"
        },
        {
         "hovertemplate": "Domaine=Déchets<br>Année=%{x}<br>Nombre d'emplois (prédit)=%{y}<extra></extra>",
         "legendgroup": "Déchets",
         "line": {
          "color": "#FFA15A",
          "dash": "solid"
         },
         "marker": {
          "symbol": "circle"
         },
         "mode": "lines",
         "name": "Déchets",
         "orientation": "v",
         "showlegend": true,
         "type": "scatter",
         "x": [
          2022,
          2023,
          2024,
          2025,
          2026,
          2027,
          2028,
          2029,
          2030,
          2031,
          2032,
          2033,
          2034,
          2035,
          2036,
          2037,
          2038,
          2039,
          2040,
          2041,
          2042,
          2043,
          2044,
          2045,
          2046,
          2047,
          2048,
          2049,
          2050
         ],
         "xaxis": "x",
         "y": [
          103168.84502971244,
          103909.02436700721,
          104649.20370430198,
          105389.38304159675,
          106129.56237889153,
          106869.7417161863,
          107609.9210534813,
          108350.10039077608,
          109090.27972807085,
          109830.45906536562,
          110570.63840266039,
          111310.81773995516,
          112050.99707724994,
          112791.17641454471,
          113531.35575183948,
          114271.53508913449,
          115011.71442642926,
          115751.89376372403,
          116492.0731010188,
          117232.25243831358,
          117972.43177560835,
          118712.61111290312,
          119452.79045019812,
          120192.9697874929,
          120933.14912478767,
          121673.32846208244,
          122413.50779937721,
          123153.68713667199,
          123893.86647396676
         ],
         "yaxis": "y"
        },
        {
         "hovertemplate": "Domaine=Déchets_radio<br>Année=%{x}<br>Nombre d'emplois (prédit)=%{y}<extra></extra>",
         "legendgroup": "Déchets_radio",
         "line": {
          "color": "#19d3f3",
          "dash": "solid"
         },
         "marker": {
          "symbol": "circle"
         },
         "mode": "lines",
         "name": "Déchets_radio",
         "orientation": "v",
         "showlegend": true,
         "type": "scatter",
         "x": [
          2022,
          2023,
          2024,
          2025,
          2026,
          2027,
          2028,
          2029,
          2030,
          2031,
          2032,
          2033,
          2034,
          2035,
          2036,
          2037,
          2038,
          2039,
          2040,
          2041,
          2042,
          2043,
          2044,
          2045,
          2046,
          2047,
          2048,
          2049,
          2050
         ],
         "xaxis": "x",
         "y": [
          2558.6244460930866,
          2438.926753191201,
          2319.2290602892863,
          2199.5313673874007,
          2079.833674485515,
          1960.1359815836004,
          1840.4382886817148,
          1720.7405957798292,
          1601.0429028779145,
          1481.3452099760289,
          1361.6475170741141,
          1241.9498241722285,
          1122.252131270343,
          1002.5544383684282,
          882.8567454665426,
          763.1590525646279,
          643.4613596627423,
          523.7636667608567,
          404.065973858942,
          284.3682809570564,
          164.6705880551417,
          44.972895153256104,
          -74.7247977486295,
          -194.4224906505442,
          -314.1201835524298,
          -433.8178764543445,
          -553.5155693562301,
          -673.2132622581157,
          -792.9109551600304
         ],
         "yaxis": "y"
        },
        {
         "hovertemplate": "Domaine=Sols et masses d'eau<br>Année=%{x}<br>Nombre d'emplois (prédit)=%{y}<extra></extra>",
         "legendgroup": "Sols et masses d'eau",
         "line": {
          "color": "#FF6692",
          "dash": "solid"
         },
         "marker": {
          "symbol": "circle"
         },
         "mode": "lines",
         "name": "Sols et masses d'eau",
         "orientation": "v",
         "showlegend": true,
         "type": "scatter",
         "x": [
          2022,
          2023,
          2024,
          2025,
          2026,
          2027,
          2028,
          2029,
          2030,
          2031,
          2032,
          2033,
          2034,
          2035,
          2036,
          2037,
          2038,
          2039,
          2040,
          2041,
          2042,
          2043,
          2044,
          2045,
          2046,
          2047,
          2048,
          2049,
          2050
         ],
         "xaxis": "x",
         "y": [
          139150.55456200292,
          146231.8285036036,
          153313.1024452043,
          160394.376386805,
          167475.65032840383,
          174556.92427000453,
          181638.19821160522,
          188719.47215320592,
          195800.74609480475,
          202882.02003640545,
          209963.29397800614,
          217044.56791960684,
          224125.84186120567,
          231207.11580280637,
          238288.38974440706,
          245369.66368600776,
          252450.9376276066,
          259532.21156920728,
          266613.48551080795,
          273694.75945240865,
          280776.0333940075,
          287857.3073356082,
          294938.58127720887,
          302019.85521880956,
          309101.1291604084,
          316182.4031020091,
          323263.6770436098,
          330344.9509852105,
          337426.2249268112
         ],
         "yaxis": "y"
        },
        {
         "hovertemplate": "Domaine=Bruit<br>Année=%{x}<br>Nombre d'emplois (prédit)=%{y}<extra></extra>",
         "legendgroup": "Bruit",
         "line": {
          "color": "#B6E880",
          "dash": "solid"
         },
         "marker": {
          "symbol": "circle"
         },
         "mode": "lines",
         "name": "Bruit",
         "orientation": "v",
         "showlegend": true,
         "type": "scatter",
         "x": [
          2022,
          2023,
          2024,
          2025,
          2026,
          2027,
          2028,
          2029,
          2030,
          2031,
          2032,
          2033,
          2034,
          2035,
          2036,
          2037,
          2038,
          2039,
          2040,
          2041,
          2042,
          2043,
          2044,
          2045,
          2046,
          2047,
          2048,
          2049,
          2050
         ],
         "xaxis": "x",
         "y": [
          4216.253698490627,
          4084.268477336978,
          3952.283256183387,
          3820.298035029738,
          3688.312813876147,
          3556.327592722498,
          3424.3423715689073,
          3292.3571504152583,
          3160.3719292616674,
          3028.3867081080184,
          2896.4014869544276,
          2764.4162658007785,
          2632.4310446471877,
          2500.4458234935387,
          2368.460602339948,
          2236.475381186299,
          2104.490160032708,
          1972.504938879059,
          1840.5197177254681,
          1708.534496571819,
          1576.5492754182283,
          1444.5640542645792,
          1312.5788331109884,
          1180.5936119573394,
          1048.6083908037485,
          916.6231696500995,
          784.6379484965087,
          652.6527273429178,
          520.6675061892688
         ],
         "yaxis": "y"
        },
        {
         "hovertemplate": "Domaine=Nature, biodiversité, paysages<br>Année=%{x}<br>Nombre d'emplois (prédit)=%{y}<extra></extra>",
         "legendgroup": "Nature, biodiversité, paysages",
         "line": {
          "color": "#FF97FF",
          "dash": "solid"
         },
         "marker": {
          "symbol": "circle"
         },
         "mode": "lines",
         "name": "Nature, biodiversité, paysages",
         "orientation": "v",
         "showlegend": true,
         "type": "scatter",
         "x": [
          2022,
          2023,
          2024,
          2025,
          2026,
          2027,
          2028,
          2029,
          2030,
          2031,
          2032,
          2033,
          2034,
          2035,
          2036,
          2037,
          2038,
          2039,
          2040,
          2041,
          2042,
          2043,
          2044,
          2045,
          2046,
          2047,
          2048,
          2049,
          2050
         ],
         "xaxis": "x",
         "y": [
          30281.322801050308,
          30760.18488880938,
          31239.046976568454,
          31717.909064327643,
          32196.771152086716,
          32675.63323984579,
          33154.49532760486,
          33633.357415363935,
          34112.21950312301,
          34591.08159088208,
          35069.94367864115,
          35548.805766400226,
          36027.6678541593,
          36506.52994191837,
          36985.392029677445,
          37464.25411743652,
          37943.11620519559,
          38421.97829295466,
          38900.84038071374,
          39379.702468472926,
          39858.564556232,
          40337.42664399107,
          40816.288731750145,
          41295.15081950922,
          41774.01290726829,
          42252.87499502736,
          42731.737082786436,
          43210.59917054551,
          43689.46125830458
         ],
         "yaxis": "y"
        },
        {
         "hovertemplate": "Domaine=Gestion des ressources naturelles<br>Année=%{x}<br>Nombre d'emplois (prédit)=%{y}<extra></extra>",
         "legendgroup": "Gestion des ressources naturelles",
         "line": {
          "color": "#FECB52",
          "dash": "solid"
         },
         "marker": {
          "symbol": "circle"
         },
         "mode": "lines",
         "name": "Gestion des ressources naturelles",
         "orientation": "v",
         "showlegend": true,
         "type": "scatter",
         "x": [
          2022,
          2023,
          2024,
          2025,
          2026,
          2027,
          2028,
          2029,
          2030,
          2031,
          2032,
          2033,
          2034,
          2035,
          2036,
          2037,
          2038,
          2039,
          2040,
          2041,
          2042,
          2043,
          2044,
          2045,
          2046,
          2047,
          2048,
          2049,
          2050
         ],
         "xaxis": "x",
         "y": [
          215913.2176341291,
          214895.76093772775,
          213878.3042413264,
          212860.84754492505,
          211843.3908485237,
          210825.93415212235,
          209808.477455721,
          208791.02075931965,
          207773.5640629183,
          206756.10736651695,
          205738.6506701156,
          204721.19397371425,
          203703.73727731267,
          202686.28058091132,
          201668.82388450997,
          200651.36718810862,
          199633.91049170727,
          198616.45379530592,
          197598.99709890457,
          196581.54040250322,
          195564.08370610187,
          194546.62700970052,
          193529.17031329917,
          192511.71361689782,
          191494.25692049647,
          190476.80022409512,
          189459.34352769377,
          188441.88683129242,
          187424.43013489107
         ],
         "yaxis": "y"
        },
        {
         "hovertemplate": "Domaine=gestion_eau<br>Année=%{x}<br>Nombre d'emplois (prédit)=%{y}<extra></extra>",
         "legendgroup": "gestion_eau",
         "line": {
          "color": "#636efa",
          "dash": "solid"
         },
         "marker": {
          "symbol": "circle"
         },
         "mode": "lines",
         "name": "gestion_eau",
         "orientation": "v",
         "showlegend": true,
         "type": "scatter",
         "x": [
          2022,
          2023,
          2024,
          2025,
          2026,
          2027,
          2028,
          2029,
          2030,
          2031,
          2032,
          2033,
          2034,
          2035,
          2036,
          2037,
          2038,
          2039,
          2040,
          2041,
          2042,
          2043,
          2044,
          2045,
          2046,
          2047,
          2048,
          2049,
          2050
         ],
         "xaxis": "x",
         "y": [
          4332.1821530739835,
          4337.739773483829,
          4343.297393893674,
          4348.855014303519,
          4354.412634713364,
          4359.970255123209,
          4365.527875533055,
          4371.0854959429,
          4376.643116352747,
          4382.200736762592,
          4387.758357172437,
          4393.315977582282,
          4398.8735979921275,
          4404.431218401973,
          4409.988838811818,
          4415.546459221665,
          4421.10407963151,
          4426.661700041355,
          4432.2193204512005,
          4437.776940861046,
          4443.334561270891,
          4448.892181680736,
          4454.449802090581,
          4460.007422500428,
          4465.565042910273,
          4471.122663320119,
          4476.680283729964,
          4482.237904139809,
          4487.795524549654
         ],
         "yaxis": "y"
        },
        {
         "hovertemplate": "Domaine=gestion_forêt<br>Année=%{x}<br>Nombre d'emplois (prédit)=%{y}<extra></extra>",
         "legendgroup": "gestion_forêt",
         "line": {
          "color": "#EF553B",
          "dash": "solid"
         },
         "marker": {
          "symbol": "circle"
         },
         "mode": "lines",
         "name": "gestion_forêt",
         "orientation": "v",
         "showlegend": true,
         "type": "scatter",
         "x": [
          2022,
          2023,
          2024,
          2025,
          2026,
          2027,
          2028,
          2029,
          2030,
          2031,
          2032,
          2033,
          2034,
          2035,
          2036,
          2037,
          2038,
          2039,
          2040,
          2041,
          2042,
          2043,
          2044,
          2045,
          2046,
          2047,
          2048,
          2049,
          2050
         ],
         "xaxis": "x",
         "y": [
          10218.104288743942,
          10140.108670100237,
          10062.113051456532,
          9984.117432812798,
          9906.121814169093,
          9828.126195525389,
          9750.130576881684,
          9672.13495823795,
          9594.139339594245,
          9516.14372095054,
          9438.148102306806,
          9360.152483663102,
          9282.156865019397,
          9204.161246375692,
          9126.165627731958,
          9048.170009088253,
          8970.174390444548,
          8892.178771800844,
          8814.18315315711,
          8736.187534513405,
          8658.1919158697,
          8580.196297225966,
          8502.200678582261,
          8424.205059938557,
          8346.209441294852,
          8268.213822651118,
          8190.218204007413,
          8112.222585363708,
          8034.226966719974
         ],
         "yaxis": "y"
        },
        {
         "hovertemplate": "Domaine=recup<br>Année=%{x}<br>Nombre d'emplois (prédit)=%{y}<extra></extra>",
         "legendgroup": "recup",
         "line": {
          "color": "#00cc96",
          "dash": "solid"
         },
         "marker": {
          "symbol": "circle"
         },
         "mode": "lines",
         "name": "recup",
         "orientation": "v",
         "showlegend": true,
         "type": "scatter",
         "x": [
          2022,
          2023,
          2024,
          2025,
          2026,
          2027,
          2028,
          2029,
          2030,
          2031,
          2032,
          2033,
          2034,
          2035,
          2036,
          2037,
          2038,
          2039,
          2040,
          2041,
          2042,
          2043,
          2044,
          2045,
          2046,
          2047,
          2048,
          2049,
          2050
         ],
         "xaxis": "x",
         "y": [
          30485.780512079902,
          30919.78934226204,
          31353.79817244406,
          31787.807002626083,
          32221.815832808104,
          32655.824662990126,
          33089.833493172264,
          33523.842323354285,
          33957.85115353631,
          34391.85998371833,
          34825.868813900466,
          35259.87764408249,
          35693.88647426451,
          36127.89530444653,
          36561.90413462855,
          36995.91296481069,
          37429.92179499271,
          37863.93062517473,
          38297.939455356754,
          38731.948285538776,
          39165.957115720914,
          39599.965945902935,
          40033.97477608496,
          40467.98360626698,
          40901.992436449116,
          41336.00126663114,
          41770.01009681316,
          42204.01892699518,
          42638.0277571772
         ],
         "yaxis": "y"
        },
        {
         "hovertemplate": "Domaine=EnR<br>Année=%{x}<br>Nombre d'emplois (prédit)=%{y}<extra></extra>",
         "legendgroup": "EnR",
         "line": {
          "color": "#ab63fa",
          "dash": "solid"
         },
         "marker": {
          "symbol": "circle"
         },
         "mode": "lines",
         "name": "EnR",
         "orientation": "v",
         "showlegend": true,
         "type": "scatter",
         "x": [
          2022,
          2023,
          2024,
          2025,
          2026,
          2027,
          2028,
          2029,
          2030,
          2031,
          2032,
          2033,
          2034,
          2035,
          2036,
          2037,
          2038,
          2039,
          2040,
          2041,
          2042,
          2043,
          2044,
          2045,
          2046,
          2047,
          2048,
          2049,
          2050
         ],
         "xaxis": "x",
         "y": [
          67386.9557781227,
          66347.99750091956,
          65309.03922371642,
          64270.08094651281,
          63231.12266930967,
          62192.164392106526,
          61153.20611490338,
          60114.24783770024,
          59075.2895604971,
          58036.331283293955,
          56997.37300609081,
          55958.41472888767,
          54919.45645168453,
          53880.498174481385,
          52841.53989727824,
          51802.5816200751,
          50763.62334287196,
          49724.665065668814,
          48685.70678846567,
          47646.74851126206,
          46607.79023405892,
          45568.83195685578,
          44529.873679652635,
          43490.91540244949,
          42451.95712524635,
          41412.99884804321,
          40374.040570840065,
          39335.08229363692,
          38296.12401643378
         ],
         "yaxis": "y"
        },
        {
         "hovertemplate": "Domaine=Maîtrise énergie<br>Année=%{x}<br>Nombre d'emplois (prédit)=%{y}<extra></extra>",
         "legendgroup": "Maîtrise énergie",
         "line": {
          "color": "#FFA15A",
          "dash": "solid"
         },
         "marker": {
          "symbol": "circle"
         },
         "mode": "lines",
         "name": "Maîtrise énergie",
         "orientation": "v",
         "showlegend": true,
         "type": "scatter",
         "x": [
          2022,
          2023,
          2024,
          2025,
          2026,
          2027,
          2028,
          2029,
          2030,
          2031,
          2032,
          2033,
          2034,
          2035,
          2036,
          2037,
          2038,
          2039,
          2040,
          2041,
          2042,
          2043,
          2044,
          2045,
          2046,
          2047,
          2048,
          2049,
          2050
         ],
         "xaxis": "x",
         "y": [
          103490.40506996296,
          103150.34479357617,
          102810.28451718937,
          102470.22424080258,
          102130.16396441578,
          101790.10368802899,
          101450.0434116422,
          101109.9831352554,
          100769.92285886861,
          100429.86258248182,
          100089.80230609502,
          99749.74202970823,
          99409.68175332143,
          99069.62147693464,
          98729.56120054785,
          98389.50092416105,
          98049.44064777426,
          97709.38037138747,
          97369.32009500067,
          97029.25981861388,
          96689.19954222708,
          96349.13926584029,
          96009.0789894535,
          95669.0187130667,
          95328.95843667991,
          94988.89816029312,
          94648.83788390632,
          94308.77760751953,
          93968.71733113274
         ],
         "yaxis": "y"
        },
        {
         "hovertemplate": "Domaine=Activités transversales<br>Année=%{x}<br>Nombre d'emplois (prédit)=%{y}<extra></extra>",
         "legendgroup": "Activités transversales",
         "line": {
          "color": "#19d3f3",
          "dash": "solid"
         },
         "marker": {
          "symbol": "circle"
         },
         "mode": "lines",
         "name": "Activités transversales",
         "orientation": "v",
         "showlegend": true,
         "type": "scatter",
         "x": [
          2022,
          2023,
          2024,
          2025,
          2026,
          2027,
          2028,
          2029,
          2030,
          2031,
          2032,
          2033,
          2034,
          2035,
          2036,
          2037,
          2038,
          2039,
          2040,
          2041,
          2042,
          2043,
          2044,
          2045,
          2046,
          2047,
          2048,
          2049,
          2050
         ],
         "xaxis": "x",
         "y": [
          74424.44843898833,
          73172.81299275838,
          71921.17754652796,
          70669.54210029801,
          69417.9066540676,
          68166.27120783765,
          66914.63576160723,
          65663.00031537682,
          64411.36486914687,
          63159.729422916454,
          61908.093976686505,
          60656.45853045609,
          59404.82308422614,
          58153.187637995725,
          56901.552191765775,
          55649.91674553536,
          54398.28129930541,
          53146.645853074995,
          51895.01040684458,
          50643.37496061463,
          49391.739514384215,
          48140.104068154265,
          46888.46862192385,
          45636.8331756939,
          44385.197729463485,
          43133.562283233536,
          41881.92683700312,
          40630.291390772705,
          39378.655944542756
         ],
         "yaxis": "y"
        },
        {
         "hovertemplate": "Domaine=Ingénierie<br>Année=%{x}<br>Nombre d'emplois (prédit)=%{y}<extra></extra>",
         "legendgroup": "Ingénierie",
         "line": {
          "color": "#FF6692",
          "dash": "solid"
         },
         "marker": {
          "symbol": "circle"
         },
         "mode": "lines",
         "name": "Ingénierie",
         "orientation": "v",
         "showlegend": true,
         "type": "scatter",
         "x": [
          2022,
          2023,
          2024,
          2025,
          2026,
          2027,
          2028,
          2029,
          2030,
          2031,
          2032,
          2033,
          2034,
          2035,
          2036,
          2037,
          2038,
          2039,
          2040,
          2041,
          2042,
          2043,
          2044,
          2045,
          2046,
          2047,
          2048,
          2049,
          2050
         ],
         "xaxis": "x",
         "y": [
          12296.862619715925,
          12309.291921392407,
          12321.721223068893,
          12334.150524745379,
          12346.579826421865,
          12359.009128098347,
          12371.438429774833,
          12383.867731451319,
          12396.297033127805,
          12408.726334804287,
          12421.155636480773,
          12433.584938157259,
          12446.014239833745,
          12458.443541510227,
          12470.872843186713,
          12483.302144863199,
          12495.731446539685,
          12508.160748216167,
          12520.590049892653,
          12533.019351569139,
          12545.448653245625,
          12557.877954922107,
          12570.307256598593,
          12582.736558275079,
          12595.165859951565,
          12607.595161628047,
          12620.024463304533,
          12632.453764981019,
          12644.883066657501
         ],
         "yaxis": "y"
        },
        {
         "hovertemplate": "Domaine=R&D<br>Année=%{x}<br>Nombre d'emplois (prédit)=%{y}<extra></extra>",
         "legendgroup": "R&D",
         "line": {
          "color": "#B6E880",
          "dash": "solid"
         },
         "marker": {
          "symbol": "circle"
         },
         "mode": "lines",
         "name": "R&D",
         "orientation": "v",
         "showlegend": true,
         "type": "scatter",
         "x": [
          2022,
          2023,
          2024,
          2025,
          2026,
          2027,
          2028,
          2029,
          2030,
          2031,
          2032,
          2033,
          2034,
          2035,
          2036,
          2037,
          2038,
          2039,
          2040,
          2041,
          2042,
          2043,
          2044,
          2045,
          2046,
          2047,
          2048,
          2049,
          2050
         ],
         "xaxis": "x",
         "y": [
          22102.387112178512,
          21692.667298564244,
          21282.947484949975,
          20873.227671335706,
          20463.507857721437,
          20053.78804410717,
          19644.0682304929,
          19234.34841687863,
          18824.628603264362,
          18414.908789650093,
          18005.188976035824,
          17595.469162421556,
          17185.749348807287,
          16776.029535193018,
          16366.30972157875,
          15956.58990796448,
          15546.870094350212,
          15137.150280735827,
          14727.430467121558,
          14317.710653507289,
          13907.99083989302,
          13498.271026278751,
          13088.551212664483,
          12678.831399050214,
          12269.111585435945,
          11859.391771821676,
          11449.671958207407,
          11039.952144593139,
          10630.23233097887
         ],
         "yaxis": "y"
        },
        {
         "hovertemplate": "Domaine=Serv gaux<br>Année=%{x}<br>Nombre d'emplois (prédit)=%{y}<extra></extra>",
         "legendgroup": "Serv gaux",
         "line": {
          "color": "#FF97FF",
          "dash": "solid"
         },
         "marker": {
          "symbol": "circle"
         },
         "mode": "lines",
         "name": "Serv gaux",
         "orientation": "v",
         "showlegend": true,
         "type": "scatter",
         "x": [
          2022,
          2023,
          2024,
          2025,
          2026,
          2027,
          2028,
          2029,
          2030,
          2031,
          2032,
          2033,
          2034,
          2035,
          2036,
          2037,
          2038,
          2039,
          2040,
          2041,
          2042,
          2043,
          2044,
          2045,
          2046,
          2047,
          2048,
          2049,
          2050
         ],
         "xaxis": "x",
         "y": [
          40024.63168581754,
          39170.22067249745,
          38315.809659177365,
          37461.398645857276,
          36606.98763253719,
          35752.5766192171,
          34898.165605897244,
          34043.754592577156,
          33189.34357925707,
          32334.93256593698,
          31480.52155261689,
          30626.110539296802,
          29771.699525976714,
          28917.288512656625,
          28062.877499336537,
          27208.46648601645,
          26354.05547269636,
          25499.64445937627,
          24645.233446056183,
          23790.822432736095,
          22936.41141941624,
          22082.00040609615,
          21227.589392776063,
          20373.178379455974,
          19518.767366135886,
          18664.356352815797,
          17809.94533949571,
          16955.53432617562,
          16101.123312855532
         ],
         "yaxis": "y"
        },
        {
         "hovertemplate": "Domaine=Activités périphériques<br>Année=%{x}<br>Nombre d'emplois (prédit)=%{y}<extra></extra>",
         "legendgroup": "Activités périphériques",
         "line": {
          "color": "#FECB52",
          "dash": "solid"
         },
         "marker": {
          "symbol": "circle"
         },
         "mode": "lines",
         "name": "Activités périphériques",
         "orientation": "v",
         "showlegend": true,
         "type": "scatter",
         "x": [
          2022,
          2023,
          2024,
          2025,
          2026,
          2027,
          2028,
          2029,
          2030,
          2031,
          2032,
          2033,
          2034,
          2035,
          2036,
          2037,
          2038,
          2039,
          2040,
          2041,
          2042,
          2043,
          2044,
          2045,
          2046,
          2047,
          2048,
          2049,
          2050
         ],
         "xaxis": "x",
         "y": [
          437407.49346608634,
          442355.1306901366,
          447302.7679141887,
          452250.4051382389,
          457198.04236228915,
          462145.67958634126,
          467093.3168103915,
          472040.95403444173,
          476988.59125849383,
          481936.2284825441,
          486883.8657065943,
          491831.50293064455,
          496779.14015469665,
          501726.7773787469,
          506674.41460279713,
          511622.05182684923,
          516569.68905089947,
          521517.3262749497,
          526464.9634990018,
          531412.600723052,
          536360.2379471023,
          541307.8751711525,
          546255.5123952046,
          551203.1496192549,
          556150.7868433051,
          561098.4240673572,
          566046.0612914074,
          570993.6985154577,
          575941.3357395098
         ],
         "yaxis": "y"
        },
        {
         "hovertemplate": "Domaine=Gestion des espaces verts<br>Année=%{x}<br>Nombre d'emplois (prédit)=%{y}<extra></extra>",
         "legendgroup": "Gestion des espaces verts",
         "line": {
          "color": "#636efa",
          "dash": "solid"
         },
         "marker": {
          "symbol": "circle"
         },
         "mode": "lines",
         "name": "Gestion des espaces verts",
         "orientation": "v",
         "showlegend": true,
         "type": "scatter",
         "x": [
          2022,
          2023,
          2024,
          2025,
          2026,
          2027,
          2028,
          2029,
          2030,
          2031,
          2032,
          2033,
          2034,
          2035,
          2036,
          2037,
          2038,
          2039,
          2040,
          2041,
          2042,
          2043,
          2044,
          2045,
          2046,
          2047,
          2048,
          2049,
          2050
         ],
         "xaxis": "x",
         "y": [
          34276.3020547462,
          35133.03756680748,
          35989.773078868755,
          36846.50859093003,
          37703.24410299131,
          38559.97961505259,
          39416.715127113865,
          40273.45063917514,
          41130.18615123642,
          41986.9216632977,
          42843.657175358974,
          43700.39268742025,
          44557.12819948153,
          45413.86371154281,
          46270.599223604084,
          47127.33473566536,
          47984.07024772664,
          48840.805759787916,
          49697.54127184919,
          50554.27678391047,
          51411.01229597175,
          52267.747808033026,
          53124.4833200943,
          53981.21883215558,
          54837.95434421686,
          55694.689856278135,
          56551.42536833941,
          57408.16088040069,
          58264.89639246197
         ],
         "yaxis": "y"
        },
        {
         "hovertemplate": "Domaine=Transports longue distance<br>Année=%{x}<br>Nombre d'emplois (prédit)=%{y}<extra></extra>",
         "legendgroup": "Transports longue distance",
         "line": {
          "color": "#EF553B",
          "dash": "solid"
         },
         "marker": {
          "symbol": "circle"
         },
         "mode": "lines",
         "name": "Transports longue distance",
         "orientation": "v",
         "showlegend": true,
         "type": "scatter",
         "x": [
          2022,
          2023,
          2024,
          2025,
          2026,
          2027,
          2028,
          2029,
          2030,
          2031,
          2032,
          2033,
          2034,
          2035,
          2036,
          2037,
          2038,
          2039,
          2040,
          2041,
          2042,
          2043,
          2044,
          2045,
          2046,
          2047,
          2048,
          2049,
          2050
         ],
         "xaxis": "x",
         "y": [
          297329.6933517611,
          300232.07151294744,
          303134.4496741338,
          306036.8278353211,
          308939.20599650743,
          311841.5841576938,
          314743.96231888107,
          317646.3404800674,
          320548.71864125377,
          323451.09680244105,
          326353.4749636274,
          329255.85312481376,
          332158.23128600104,
          335060.6094471874,
          337962.98760837375,
          340865.36576956103,
          343767.7439307474,
          346670.12209193374,
          349572.5002531201,
          352474.8784143074,
          355377.2565754937,
          358279.6347366801,
          361182.01289786736,
          364084.3910590537,
          366986.76922024006,
          369889.14738142735,
          372791.5255426137,
          375693.90370380005,
          378596.28186498734
         ],
         "yaxis": "y"
        },
        {
         "hovertemplate": "Domaine=Transports urbains et suburbains<br>Année=%{x}<br>Nombre d'emplois (prédit)=%{y}<extra></extra>",
         "legendgroup": "Transports urbains et suburbains",
         "line": {
          "color": "#00cc96",
          "dash": "solid"
         },
         "marker": {
          "symbol": "circle"
         },
         "mode": "lines",
         "name": "Transports urbains et suburbains",
         "orientation": "v",
         "showlegend": true,
         "type": "scatter",
         "x": [
          2022,
          2023,
          2024,
          2025,
          2026,
          2027,
          2028,
          2029,
          2030,
          2031,
          2032,
          2033,
          2034,
          2035,
          2036,
          2037,
          2038,
          2039,
          2040,
          2041,
          2042,
          2043,
          2044,
          2045,
          2046,
          2047,
          2048,
          2049,
          2050
         ],
         "xaxis": "x",
         "y": [
          105800.8498041009,
          106989.30596845722,
          108177.76213281354,
          109366.21829716986,
          110554.67446152619,
          111743.13062588204,
          112931.58679023836,
          114120.04295459468,
          115308.499118951,
          116496.95528330732,
          117685.41144766365,
          118873.86761201997,
          120062.32377637629,
          121250.77994073261,
          122439.23610508846,
          123627.69226944479,
          124816.1484338011,
          126004.60459815743,
          127193.06076251375,
          128381.51692687007,
          129569.97309122639,
          130758.42925558271,
          131946.88541993857,
          133135.3415842949,
          134323.7977486512,
          135512.25391300753,
          136700.71007736385,
          137889.16624172017,
          139077.6224060765
         ],
         "yaxis": "y"
        },
        {
         "hovertemplate": "Domaine=Agriculture, sylviculture et pêch<br>Année=%{x}<br>Nombre d'emplois (prédit)=%{y}<extra></extra>",
         "legendgroup": "Agriculture, sylviculture et pêch",
         "line": {
          "color": "#ab63fa",
          "dash": "solid"
         },
         "marker": {
          "symbol": "circle"
         },
         "mode": "lines",
         "name": "Agriculture, sylviculture et pêch",
         "orientation": "v",
         "showlegend": true,
         "type": "scatter",
         "x": [
          2022,
          2023,
          2024,
          2025,
          2026,
          2027,
          2028,
          2029,
          2030,
          2031,
          2032,
          2033,
          2034,
          2035,
          2036,
          2037,
          2038,
          2039,
          2040,
          2041,
          2042,
          2043,
          2044,
          2045,
          2046,
          2047,
          2048,
          2049,
          2050
         ],
         "xaxis": "x",
         "y": [
          1.5994344738280875,
          1.596787641767068,
          1.5941408097060474,
          1.5914939776450279,
          1.5888471455840083,
          1.5862003135229878,
          1.5835534814619683,
          1.5809066494009487,
          1.5782598173399283,
          1.5756129852789087,
          1.5729661532178891,
          1.5703193211568696,
          1.567672489095849,
          1.5650256570348295,
          1.56237882497381,
          1.5597319929127895,
          1.55708516085177,
          1.5544383287907504,
          1.55179149672973,
          1.5491446646687104,
          1.5464978326076908,
          1.5438510005466712,
          1.5412041684856508,
          1.5385573364246312,
          1.5359105043636117,
          1.5332636723025912,
          1.5306168402415716,
          1.527970008180552,
          1.5253231761195316
         ],
         "yaxis": "y"
        },
        {
         "hovertemplate": "Domaine=Industrie (sauf construction)<br>Année=%{x}<br>Nombre d'emplois (prédit)=%{y}<extra></extra>",
         "legendgroup": "Industrie (sauf construction)",
         "line": {
          "color": "#FFA15A",
          "dash": "solid"
         },
         "marker": {
          "symbol": "circle"
         },
         "mode": "lines",
         "name": "Industrie (sauf construction)",
         "orientation": "v",
         "showlegend": true,
         "type": "scatter",
         "x": [
          2022,
          2023,
          2024,
          2025,
          2026,
          2027,
          2028,
          2029,
          2030,
          2031,
          2032,
          2033,
          2034,
          2035,
          2036,
          2037,
          2038,
          2039,
          2040,
          2041,
          2042,
          2043,
          2044,
          2045,
          2046,
          2047,
          2048,
          2049,
          2050
         ],
         "xaxis": "x",
         "y": [
          19.333571428572117,
          19.333571428572117,
          19.333571428572114,
          19.333571428572114,
          19.333571428572114,
          19.333571428572114,
          19.333571428572114,
          19.333571428572114,
          19.333571428572114,
          19.333571428572114,
          19.333571428572114,
          19.333571428572114,
          19.333571428572114,
          19.333571428572114,
          19.333571428572114,
          19.333571428572114,
          19.333571428572114,
          19.333571428572114,
          19.333571428572114,
          19.33357142857211,
          19.33357142857211,
          19.33357142857211,
          19.33357142857211,
          19.33357142857211,
          19.33357142857211,
          19.33357142857211,
          19.33357142857211,
          19.33357142857211,
          19.33357142857211
         ],
         "yaxis": "y"
        },
        {
         "hovertemplate": "Domaine=Services<br>Année=%{x}<br>Nombre d'emplois (prédit)=%{y}<extra></extra>",
         "legendgroup": "Services",
         "line": {
          "color": "#19d3f3",
          "dash": "solid"
         },
         "marker": {
          "symbol": "circle"
         },
         "mode": "lines",
         "name": "Services",
         "orientation": "v",
         "showlegend": true,
         "type": "scatter",
         "x": [
          2022,
          2023,
          2024,
          2025,
          2026,
          2027,
          2028,
          2029,
          2030,
          2031,
          2032,
          2033,
          2034,
          2035,
          2036,
          2037,
          2038,
          2039,
          2040,
          2041,
          2042,
          2043,
          2044,
          2045,
          2046,
          2047,
          2048,
          2049,
          2050
         ],
         "xaxis": "x",
         "y": [
          79.06561761066726,
          79.06817614923204,
          79.07073468779683,
          79.07329322636161,
          79.07585176492643,
          79.07841030349121,
          79.080968842056,
          79.08352738062078,
          79.08608591918556,
          79.08864445775035,
          79.09120299631513,
          79.09376153487992,
          79.0963200734447,
          79.09887861200949,
          79.10143715057427,
          79.10399568913905,
          79.10655422770384,
          79.10911276626865,
          79.11167130483344,
          79.11422984339822,
          79.116788381963,
          79.11934692052779,
          79.12190545909257,
          79.12446399765736,
          79.12702253622214,
          79.12958107478693,
          79.13213961335171,
          79.1346981519165,
          79.13725669048128
         ],
         "yaxis": "y"
        }
       ],
       "layout": {
        "legend": {
         "title": {
          "text": "Domaine"
         },
         "tracegroupgap": 0
        },
        "template": {
         "data": {
          "bar": [
           {
            "error_x": {
             "color": "#2a3f5f"
            },
            "error_y": {
             "color": "#2a3f5f"
            },
            "marker": {
             "line": {
              "color": "#E5ECF6",
              "width": 0.5
             },
             "pattern": {
              "fillmode": "overlay",
              "size": 10,
              "solidity": 0.2
             }
            },
            "type": "bar"
           }
          ],
          "barpolar": [
           {
            "marker": {
             "line": {
              "color": "#E5ECF6",
              "width": 0.5
             },
             "pattern": {
              "fillmode": "overlay",
              "size": 10,
              "solidity": 0.2
             }
            },
            "type": "barpolar"
           }
          ],
          "carpet": [
           {
            "aaxis": {
             "endlinecolor": "#2a3f5f",
             "gridcolor": "white",
             "linecolor": "white",
             "minorgridcolor": "white",
             "startlinecolor": "#2a3f5f"
            },
            "baxis": {
             "endlinecolor": "#2a3f5f",
             "gridcolor": "white",
             "linecolor": "white",
             "minorgridcolor": "white",
             "startlinecolor": "#2a3f5f"
            },
            "type": "carpet"
           }
          ],
          "choropleth": [
           {
            "colorbar": {
             "outlinewidth": 0,
             "ticks": ""
            },
            "type": "choropleth"
           }
          ],
          "contour": [
           {
            "colorbar": {
             "outlinewidth": 0,
             "ticks": ""
            },
            "colorscale": [
             [
              0,
              "#0d0887"
             ],
             [
              0.1111111111111111,
              "#46039f"
             ],
             [
              0.2222222222222222,
              "#7201a8"
             ],
             [
              0.3333333333333333,
              "#9c179e"
             ],
             [
              0.4444444444444444,
              "#bd3786"
             ],
             [
              0.5555555555555556,
              "#d8576b"
             ],
             [
              0.6666666666666666,
              "#ed7953"
             ],
             [
              0.7777777777777778,
              "#fb9f3a"
             ],
             [
              0.8888888888888888,
              "#fdca26"
             ],
             [
              1,
              "#f0f921"
             ]
            ],
            "type": "contour"
           }
          ],
          "contourcarpet": [
           {
            "colorbar": {
             "outlinewidth": 0,
             "ticks": ""
            },
            "type": "contourcarpet"
           }
          ],
          "heatmap": [
           {
            "colorbar": {
             "outlinewidth": 0,
             "ticks": ""
            },
            "colorscale": [
             [
              0,
              "#0d0887"
             ],
             [
              0.1111111111111111,
              "#46039f"
             ],
             [
              0.2222222222222222,
              "#7201a8"
             ],
             [
              0.3333333333333333,
              "#9c179e"
             ],
             [
              0.4444444444444444,
              "#bd3786"
             ],
             [
              0.5555555555555556,
              "#d8576b"
             ],
             [
              0.6666666666666666,
              "#ed7953"
             ],
             [
              0.7777777777777778,
              "#fb9f3a"
             ],
             [
              0.8888888888888888,
              "#fdca26"
             ],
             [
              1,
              "#f0f921"
             ]
            ],
            "type": "heatmap"
           }
          ],
          "heatmapgl": [
           {
            "colorbar": {
             "outlinewidth": 0,
             "ticks": ""
            },
            "colorscale": [
             [
              0,
              "#0d0887"
             ],
             [
              0.1111111111111111,
              "#46039f"
             ],
             [
              0.2222222222222222,
              "#7201a8"
             ],
             [
              0.3333333333333333,
              "#9c179e"
             ],
             [
              0.4444444444444444,
              "#bd3786"
             ],
             [
              0.5555555555555556,
              "#d8576b"
             ],
             [
              0.6666666666666666,
              "#ed7953"
             ],
             [
              0.7777777777777778,
              "#fb9f3a"
             ],
             [
              0.8888888888888888,
              "#fdca26"
             ],
             [
              1,
              "#f0f921"
             ]
            ],
            "type": "heatmapgl"
           }
          ],
          "histogram": [
           {
            "marker": {
             "pattern": {
              "fillmode": "overlay",
              "size": 10,
              "solidity": 0.2
             }
            },
            "type": "histogram"
           }
          ],
          "histogram2d": [
           {
            "colorbar": {
             "outlinewidth": 0,
             "ticks": ""
            },
            "colorscale": [
             [
              0,
              "#0d0887"
             ],
             [
              0.1111111111111111,
              "#46039f"
             ],
             [
              0.2222222222222222,
              "#7201a8"
             ],
             [
              0.3333333333333333,
              "#9c179e"
             ],
             [
              0.4444444444444444,
              "#bd3786"
             ],
             [
              0.5555555555555556,
              "#d8576b"
             ],
             [
              0.6666666666666666,
              "#ed7953"
             ],
             [
              0.7777777777777778,
              "#fb9f3a"
             ],
             [
              0.8888888888888888,
              "#fdca26"
             ],
             [
              1,
              "#f0f921"
             ]
            ],
            "type": "histogram2d"
           }
          ],
          "histogram2dcontour": [
           {
            "colorbar": {
             "outlinewidth": 0,
             "ticks": ""
            },
            "colorscale": [
             [
              0,
              "#0d0887"
             ],
             [
              0.1111111111111111,
              "#46039f"
             ],
             [
              0.2222222222222222,
              "#7201a8"
             ],
             [
              0.3333333333333333,
              "#9c179e"
             ],
             [
              0.4444444444444444,
              "#bd3786"
             ],
             [
              0.5555555555555556,
              "#d8576b"
             ],
             [
              0.6666666666666666,
              "#ed7953"
             ],
             [
              0.7777777777777778,
              "#fb9f3a"
             ],
             [
              0.8888888888888888,
              "#fdca26"
             ],
             [
              1,
              "#f0f921"
             ]
            ],
            "type": "histogram2dcontour"
           }
          ],
          "mesh3d": [
           {
            "colorbar": {
             "outlinewidth": 0,
             "ticks": ""
            },
            "type": "mesh3d"
           }
          ],
          "parcoords": [
           {
            "line": {
             "colorbar": {
              "outlinewidth": 0,
              "ticks": ""
             }
            },
            "type": "parcoords"
           }
          ],
          "pie": [
           {
            "automargin": true,
            "type": "pie"
           }
          ],
          "scatter": [
           {
            "fillpattern": {
             "fillmode": "overlay",
             "size": 10,
             "solidity": 0.2
            },
            "type": "scatter"
           }
          ],
          "scatter3d": [
           {
            "line": {
             "colorbar": {
              "outlinewidth": 0,
              "ticks": ""
             }
            },
            "marker": {
             "colorbar": {
              "outlinewidth": 0,
              "ticks": ""
             }
            },
            "type": "scatter3d"
           }
          ],
          "scattercarpet": [
           {
            "marker": {
             "colorbar": {
              "outlinewidth": 0,
              "ticks": ""
             }
            },
            "type": "scattercarpet"
           }
          ],
          "scattergeo": [
           {
            "marker": {
             "colorbar": {
              "outlinewidth": 0,
              "ticks": ""
             }
            },
            "type": "scattergeo"
           }
          ],
          "scattergl": [
           {
            "marker": {
             "colorbar": {
              "outlinewidth": 0,
              "ticks": ""
             }
            },
            "type": "scattergl"
           }
          ],
          "scattermapbox": [
           {
            "marker": {
             "colorbar": {
              "outlinewidth": 0,
              "ticks": ""
             }
            },
            "type": "scattermapbox"
           }
          ],
          "scatterpolar": [
           {
            "marker": {
             "colorbar": {
              "outlinewidth": 0,
              "ticks": ""
             }
            },
            "type": "scatterpolar"
           }
          ],
          "scatterpolargl": [
           {
            "marker": {
             "colorbar": {
              "outlinewidth": 0,
              "ticks": ""
             }
            },
            "type": "scatterpolargl"
           }
          ],
          "scatterternary": [
           {
            "marker": {
             "colorbar": {
              "outlinewidth": 0,
              "ticks": ""
             }
            },
            "type": "scatterternary"
           }
          ],
          "surface": [
           {
            "colorbar": {
             "outlinewidth": 0,
             "ticks": ""
            },
            "colorscale": [
             [
              0,
              "#0d0887"
             ],
             [
              0.1111111111111111,
              "#46039f"
             ],
             [
              0.2222222222222222,
              "#7201a8"
             ],
             [
              0.3333333333333333,
              "#9c179e"
             ],
             [
              0.4444444444444444,
              "#bd3786"
             ],
             [
              0.5555555555555556,
              "#d8576b"
             ],
             [
              0.6666666666666666,
              "#ed7953"
             ],
             [
              0.7777777777777778,
              "#fb9f3a"
             ],
             [
              0.8888888888888888,
              "#fdca26"
             ],
             [
              1,
              "#f0f921"
             ]
            ],
            "type": "surface"
           }
          ],
          "table": [
           {
            "cells": {
             "fill": {
              "color": "#EBF0F8"
             },
             "line": {
              "color": "white"
             }
            },
            "header": {
             "fill": {
              "color": "#C8D4E3"
             },
             "line": {
              "color": "white"
             }
            },
            "type": "table"
           }
          ]
         },
         "layout": {
          "annotationdefaults": {
           "arrowcolor": "#2a3f5f",
           "arrowhead": 0,
           "arrowwidth": 1
          },
          "autotypenumbers": "strict",
          "coloraxis": {
           "colorbar": {
            "outlinewidth": 0,
            "ticks": ""
           }
          },
          "colorscale": {
           "diverging": [
            [
             0,
             "#8e0152"
            ],
            [
             0.1,
             "#c51b7d"
            ],
            [
             0.2,
             "#de77ae"
            ],
            [
             0.3,
             "#f1b6da"
            ],
            [
             0.4,
             "#fde0ef"
            ],
            [
             0.5,
             "#f7f7f7"
            ],
            [
             0.6,
             "#e6f5d0"
            ],
            [
             0.7,
             "#b8e186"
            ],
            [
             0.8,
             "#7fbc41"
            ],
            [
             0.9,
             "#4d9221"
            ],
            [
             1,
             "#276419"
            ]
           ],
           "sequential": [
            [
             0,
             "#0d0887"
            ],
            [
             0.1111111111111111,
             "#46039f"
            ],
            [
             0.2222222222222222,
             "#7201a8"
            ],
            [
             0.3333333333333333,
             "#9c179e"
            ],
            [
             0.4444444444444444,
             "#bd3786"
            ],
            [
             0.5555555555555556,
             "#d8576b"
            ],
            [
             0.6666666666666666,
             "#ed7953"
            ],
            [
             0.7777777777777778,
             "#fb9f3a"
            ],
            [
             0.8888888888888888,
             "#fdca26"
            ],
            [
             1,
             "#f0f921"
            ]
           ],
           "sequentialminus": [
            [
             0,
             "#0d0887"
            ],
            [
             0.1111111111111111,
             "#46039f"
            ],
            [
             0.2222222222222222,
             "#7201a8"
            ],
            [
             0.3333333333333333,
             "#9c179e"
            ],
            [
             0.4444444444444444,
             "#bd3786"
            ],
            [
             0.5555555555555556,
             "#d8576b"
            ],
            [
             0.6666666666666666,
             "#ed7953"
            ],
            [
             0.7777777777777778,
             "#fb9f3a"
            ],
            [
             0.8888888888888888,
             "#fdca26"
            ],
            [
             1,
             "#f0f921"
            ]
           ]
          },
          "colorway": [
           "#636efa",
           "#EF553B",
           "#00cc96",
           "#ab63fa",
           "#FFA15A",
           "#19d3f3",
           "#FF6692",
           "#B6E880",
           "#FF97FF",
           "#FECB52"
          ],
          "font": {
           "color": "#2a3f5f"
          },
          "geo": {
           "bgcolor": "white",
           "lakecolor": "white",
           "landcolor": "#E5ECF6",
           "showlakes": true,
           "showland": true,
           "subunitcolor": "white"
          },
          "hoverlabel": {
           "align": "left"
          },
          "hovermode": "closest",
          "mapbox": {
           "style": "light"
          },
          "paper_bgcolor": "white",
          "plot_bgcolor": "#E5ECF6",
          "polar": {
           "angularaxis": {
            "gridcolor": "white",
            "linecolor": "white",
            "ticks": ""
           },
           "bgcolor": "#E5ECF6",
           "radialaxis": {
            "gridcolor": "white",
            "linecolor": "white",
            "ticks": ""
           }
          },
          "scene": {
           "xaxis": {
            "backgroundcolor": "#E5ECF6",
            "gridcolor": "white",
            "gridwidth": 2,
            "linecolor": "white",
            "showbackground": true,
            "ticks": "",
            "zerolinecolor": "white"
           },
           "yaxis": {
            "backgroundcolor": "#E5ECF6",
            "gridcolor": "white",
            "gridwidth": 2,
            "linecolor": "white",
            "showbackground": true,
            "ticks": "",
            "zerolinecolor": "white"
           },
           "zaxis": {
            "backgroundcolor": "#E5ECF6",
            "gridcolor": "white",
            "gridwidth": 2,
            "linecolor": "white",
            "showbackground": true,
            "ticks": "",
            "zerolinecolor": "white"
           }
          },
          "shapedefaults": {
           "line": {
            "color": "#2a3f5f"
           }
          },
          "ternary": {
           "aaxis": {
            "gridcolor": "white",
            "linecolor": "white",
            "ticks": ""
           },
           "baxis": {
            "gridcolor": "white",
            "linecolor": "white",
            "ticks": ""
           },
           "bgcolor": "#E5ECF6",
           "caxis": {
            "gridcolor": "white",
            "linecolor": "white",
            "ticks": ""
           }
          },
          "title": {
           "x": 0.05
          },
          "xaxis": {
           "automargin": true,
           "gridcolor": "white",
           "linecolor": "white",
           "ticks": "",
           "title": {
            "standoff": 15
           },
           "zerolinecolor": "white",
           "zerolinewidth": 2
          },
          "yaxis": {
           "automargin": true,
           "gridcolor": "white",
           "linecolor": "white",
           "ticks": "",
           "title": {
            "standoff": 15
           },
           "zerolinecolor": "white",
           "zerolinewidth": 2
          }
         }
        },
        "title": {
         "text": "Prédictions du nombre d'emplois par domaine jusqu'en 2050"
        },
        "xaxis": {
         "anchor": "y",
         "domain": [
          0,
          1
         ],
         "title": {
          "text": "Année"
         }
        },
        "yaxis": {
         "anchor": "x",
         "domain": [
          0,
          1
         ],
         "title": {
          "text": "Nombre d'emplois (prédit)"
         }
        }
       }
      }
     },
     "metadata": {},
     "output_type": "display_data"
    }
   ],
   "source": [
    "# Extract individual metrics for each domain\n",
    "r2_values = [item[\"R2\"] for item in model_metrics]\n",
    "adjusted_r2_values = [item[\"R2 ajusté\"] for item in model_metrics]\n",
    "p_values = [item[\"P-valeur (F-stat)\"] for item in model_metrics]\n",
    "\n",
    "# Calculate combined metrics\n",
    "combined_r2 = sum(r2_values) / len(r2_values)\n",
    "combined_adjusted_r2 = sum(adjusted_r2_values) / len(adjusted_r2_values)\n",
    "combined_p_value = sum(p_values) / len(p_values)\n",
    "augmentation_values = [item[\"Augmentation\"] for item in augmentation_data]\n",
    "total_evolution_emploi = sum(augmentation_values)\n",
    "\n",
    "# Print combined metrics\n",
    "print(\"\\n--- Valeur totale de l'évolution de l'emploi pour tous les domaines ---\")\n",
    "print(f\"Total de l'évolution de l'emploi: {total_evolution_emploi}\")\n",
    "print(\"\\n--- Métriques combinées pour tous les domaines ---\")\n",
    "print(f\"R2 combiné: {combined_r2}\")\n",
    "print(f\"R2 ajusté combiné: {combined_adjusted_r2}\")\n",
    "print(f\"P-valeur combinée (F-stat): {combined_p_value}\")\n",
    "\n",
    "\n",
    "# Visualisation des prédictions futures pour tous les domaines\n",
    "fig = px.line(final_projections_df, x=\"Année\", y=\"Nombre d'emplois (prédit)\", color=\"Domaine\",\n",
    "              title=\"Prédictions du nombre d'emplois par domaine jusqu'en 2050\")\n",
    "fig.show()\n",
    "\n"
   ]
  },
  {
   "cell_type": "markdown",
   "metadata": {},
   "source": [
    "# Top 5 des domaines avec la plus forte augmentation de l'emploi"
   ]
  },
  {
   "cell_type": "code",
   "execution_count": 16,
   "metadata": {},
   "outputs": [
    {
     "name": "stdout",
     "output_type": "stream",
     "text": [
      "\n",
      "--- Top 5 des domaines avec la plus grande augmentation ---\n",
      "                          Domaine   Augmentation\n",
      "1   Protection de l'environnement  219481.459029\n",
      "6            Sols et masses d'eau  198275.670365\n",
      "0                   Eco-activités  155952.736601\n",
      "19        Activités périphériques  138533.842273\n",
      "21     Transports longue distance   81266.588513\n",
      "\n",
      "--- Métriques pour le domaine Protection de l'environnement ---\n",
      "R2: 0.9396539741173658, R2 ajusté: 0.9286819694114323, P-valeur (F-stat): 1.9659284645150886e-07\n",
      "\n",
      "--- VIF ---\n",
      "  Variable           VIF\n",
      "0    const  2.150732e+06\n",
      "1    Année  7.697711e+00\n",
      "2   Valeur  7.697711e+00\n",
      "\n",
      "--- Métriques pour le domaine Sols et masses d'eau ---\n",
      "R2: 0.9447093283747505, R2 ajusté: 0.9346564789883415, P-valeur (F-stat): 1.215025128325e-07\n",
      "\n",
      "--- VIF ---\n",
      "  Variable           VIF\n",
      "0    const  2.150732e+06\n",
      "1    Année  7.697711e+00\n",
      "2   Valeur  7.697711e+00\n",
      "\n",
      "--- Métriques pour le domaine Eco-activités ---\n",
      "R2: 0.868239199094899, R2 ajusté: 0.8442826898394261, P-valeur (F-stat): 1.4415318524324226e-05\n",
      "\n",
      "--- VIF ---\n",
      "  Variable           VIF\n",
      "0    const  2.150732e+06\n",
      "1    Année  7.697711e+00\n",
      "2   Valeur  7.697711e+00\n",
      "\n",
      "--- Métriques pour le domaine Activités périphériques ---\n",
      "R2: 0.7798688037777435, R2 ajusté: 0.7398449499191514, P-valeur (F-stat): 0.00024252067305747128\n",
      "\n",
      "--- VIF ---\n",
      "  Variable           VIF\n",
      "0    const  2.150732e+06\n",
      "1    Année  7.697711e+00\n",
      "2   Valeur  7.697711e+00\n",
      "\n",
      "--- Métriques pour le domaine Transports longue distance ---\n",
      "R2: 0.3090914142110984, R2 ajusté: 0.183471671340389, P-valeur (F-stat): 0.13086190641286294\n",
      "\n",
      "--- VIF ---\n",
      "  Variable           VIF\n",
      "0    const  2.150732e+06\n",
      "1    Année  7.697711e+00\n",
      "2   Valeur  7.697711e+00\n"
     ]
    },
    {
     "data": {
      "application/vnd.plotly.v1+json": {
       "config": {
        "plotlyServerURL": "https://plot.ly"
       },
       "data": [
        {
         "hovertemplate": "Domaine=Eco-activités<br>Année=%{x}<br>Nombre d'emplois (prédit)=%{y}<extra></extra>",
         "legendgroup": "Eco-activités",
         "line": {
          "color": "#636efa",
          "dash": "solid"
         },
         "marker": {
          "symbol": "circle"
         },
         "mode": "lines",
         "name": "Eco-activités",
         "orientation": "v",
         "showlegend": true,
         "type": "scatter",
         "x": [
          2022,
          2023,
          2024,
          2025,
          2026,
          2027,
          2028,
          2029,
          2030,
          2031,
          2032,
          2033,
          2034,
          2035,
          2036,
          2037,
          2038,
          2039,
          2040,
          2041,
          2042,
          2043,
          2044,
          2045,
          2046,
          2047,
          2048,
          2049,
          2050
         ],
         "xaxis": "x",
         "y": [
          633050.6973039671,
          638620.4378968771,
          644190.178489787,
          649759.919082697,
          655329.659675607,
          660899.400268517,
          666469.140861427,
          672038.8814543369,
          677608.6220472469,
          683178.362640155,
          688748.103233065,
          694317.843825975,
          699887.584418885,
          705457.3250117949,
          711027.0656047049,
          716596.8061976149,
          722166.5467905249,
          727736.2873834348,
          733306.0279763448,
          738875.7685692548,
          744445.5091621648,
          750015.2497550729,
          755584.9903479828,
          761154.7309408928,
          766724.4715338028,
          772294.2121267128,
          777863.9527196228,
          783433.6933125327,
          789003.4339054427
         ],
         "yaxis": "y"
        },
        {
         "hovertemplate": "Domaine=Protection de l'environnement<br>Année=%{x}<br>Nombre d'emplois (prédit)=%{y}<extra></extra>",
         "legendgroup": "Protection de l'environnement",
         "line": {
          "color": "#EF553B",
          "dash": "solid"
         },
         "marker": {
          "symbol": "circle"
         },
         "mode": "lines",
         "name": "Protection de l'environnement",
         "orientation": "v",
         "showlegend": true,
         "type": "scatter",
         "x": [
          2022,
          2023,
          2024,
          2025,
          2026,
          2027,
          2028,
          2029,
          2030,
          2031,
          2032,
          2033,
          2034,
          2035,
          2036,
          2037,
          2038,
          2039,
          2040,
          2041,
          2042,
          2043,
          2044,
          2045,
          2046,
          2047,
          2048,
          2049,
          2050
         ],
         "xaxis": "x",
         "y": [
          342711.39081146906,
          350550.01434823463,
          358388.6378850002,
          366227.2614217658,
          374065.88495853136,
          381904.50849529693,
          389743.1320320625,
          397581.7555688281,
          405420.37910559366,
          413259.00264235924,
          421097.6261791248,
          428936.2497158885,
          436774.8732526541,
          444613.4967894197,
          452452.12032618525,
          460290.7438629508,
          468129.3673997164,
          475967.990936482,
          483806.61447324755,
          491645.2380100131,
          499483.8615467787,
          507322.4850835443,
          515161.10862030985,
          522999.7321570754,
          530838.355693841,
          538676.9792306066,
          546515.6027673722,
          554354.2263041377,
          562192.8498409033
         ],
         "yaxis": "y"
        },
        {
         "hovertemplate": "Domaine=Sols et masses d'eau<br>Année=%{x}<br>Nombre d'emplois (prédit)=%{y}<extra></extra>",
         "legendgroup": "Sols et masses d'eau",
         "line": {
          "color": "#00cc96",
          "dash": "solid"
         },
         "marker": {
          "symbol": "circle"
         },
         "mode": "lines",
         "name": "Sols et masses d'eau",
         "orientation": "v",
         "showlegend": true,
         "type": "scatter",
         "x": [
          2022,
          2023,
          2024,
          2025,
          2026,
          2027,
          2028,
          2029,
          2030,
          2031,
          2032,
          2033,
          2034,
          2035,
          2036,
          2037,
          2038,
          2039,
          2040,
          2041,
          2042,
          2043,
          2044,
          2045,
          2046,
          2047,
          2048,
          2049,
          2050
         ],
         "xaxis": "x",
         "y": [
          139150.55456200292,
          146231.8285036036,
          153313.1024452043,
          160394.376386805,
          167475.65032840383,
          174556.92427000453,
          181638.19821160522,
          188719.47215320592,
          195800.74609480475,
          202882.02003640545,
          209963.29397800614,
          217044.56791960684,
          224125.84186120567,
          231207.11580280637,
          238288.38974440706,
          245369.66368600776,
          252450.9376276066,
          259532.21156920728,
          266613.48551080795,
          273694.75945240865,
          280776.0333940075,
          287857.3073356082,
          294938.58127720887,
          302019.85521880956,
          309101.1291604084,
          316182.4031020091,
          323263.6770436098,
          330344.9509852105,
          337426.2249268112
         ],
         "yaxis": "y"
        },
        {
         "hovertemplate": "Domaine=Activités périphériques<br>Année=%{x}<br>Nombre d'emplois (prédit)=%{y}<extra></extra>",
         "legendgroup": "Activités périphériques",
         "line": {
          "color": "#ab63fa",
          "dash": "solid"
         },
         "marker": {
          "symbol": "circle"
         },
         "mode": "lines",
         "name": "Activités périphériques",
         "orientation": "v",
         "showlegend": true,
         "type": "scatter",
         "x": [
          2022,
          2023,
          2024,
          2025,
          2026,
          2027,
          2028,
          2029,
          2030,
          2031,
          2032,
          2033,
          2034,
          2035,
          2036,
          2037,
          2038,
          2039,
          2040,
          2041,
          2042,
          2043,
          2044,
          2045,
          2046,
          2047,
          2048,
          2049,
          2050
         ],
         "xaxis": "x",
         "y": [
          437407.49346608634,
          442355.1306901366,
          447302.7679141887,
          452250.4051382389,
          457198.04236228915,
          462145.67958634126,
          467093.3168103915,
          472040.95403444173,
          476988.59125849383,
          481936.2284825441,
          486883.8657065943,
          491831.50293064455,
          496779.14015469665,
          501726.7773787469,
          506674.41460279713,
          511622.05182684923,
          516569.68905089947,
          521517.3262749497,
          526464.9634990018,
          531412.600723052,
          536360.2379471023,
          541307.8751711525,
          546255.5123952046,
          551203.1496192549,
          556150.7868433051,
          561098.4240673572,
          566046.0612914074,
          570993.6985154577,
          575941.3357395098
         ],
         "yaxis": "y"
        },
        {
         "hovertemplate": "Domaine=Transports longue distance<br>Année=%{x}<br>Nombre d'emplois (prédit)=%{y}<extra></extra>",
         "legendgroup": "Transports longue distance",
         "line": {
          "color": "#FFA15A",
          "dash": "solid"
         },
         "marker": {
          "symbol": "circle"
         },
         "mode": "lines",
         "name": "Transports longue distance",
         "orientation": "v",
         "showlegend": true,
         "type": "scatter",
         "x": [
          2022,
          2023,
          2024,
          2025,
          2026,
          2027,
          2028,
          2029,
          2030,
          2031,
          2032,
          2033,
          2034,
          2035,
          2036,
          2037,
          2038,
          2039,
          2040,
          2041,
          2042,
          2043,
          2044,
          2045,
          2046,
          2047,
          2048,
          2049,
          2050
         ],
         "xaxis": "x",
         "y": [
          297329.6933517611,
          300232.07151294744,
          303134.4496741338,
          306036.8278353211,
          308939.20599650743,
          311841.5841576938,
          314743.96231888107,
          317646.3404800674,
          320548.71864125377,
          323451.09680244105,
          326353.4749636274,
          329255.85312481376,
          332158.23128600104,
          335060.6094471874,
          337962.98760837375,
          340865.36576956103,
          343767.7439307474,
          346670.12209193374,
          349572.5002531201,
          352474.8784143074,
          355377.2565754937,
          358279.6347366801,
          361182.01289786736,
          364084.3910590537,
          366986.76922024006,
          369889.14738142735,
          372791.5255426137,
          375693.90370380005,
          378596.28186498734
         ],
         "yaxis": "y"
        }
       ],
       "layout": {
        "legend": {
         "title": {
          "text": "Domaine"
         },
         "tracegroupgap": 0
        },
        "template": {
         "data": {
          "bar": [
           {
            "error_x": {
             "color": "#2a3f5f"
            },
            "error_y": {
             "color": "#2a3f5f"
            },
            "marker": {
             "line": {
              "color": "#E5ECF6",
              "width": 0.5
             },
             "pattern": {
              "fillmode": "overlay",
              "size": 10,
              "solidity": 0.2
             }
            },
            "type": "bar"
           }
          ],
          "barpolar": [
           {
            "marker": {
             "line": {
              "color": "#E5ECF6",
              "width": 0.5
             },
             "pattern": {
              "fillmode": "overlay",
              "size": 10,
              "solidity": 0.2
             }
            },
            "type": "barpolar"
           }
          ],
          "carpet": [
           {
            "aaxis": {
             "endlinecolor": "#2a3f5f",
             "gridcolor": "white",
             "linecolor": "white",
             "minorgridcolor": "white",
             "startlinecolor": "#2a3f5f"
            },
            "baxis": {
             "endlinecolor": "#2a3f5f",
             "gridcolor": "white",
             "linecolor": "white",
             "minorgridcolor": "white",
             "startlinecolor": "#2a3f5f"
            },
            "type": "carpet"
           }
          ],
          "choropleth": [
           {
            "colorbar": {
             "outlinewidth": 0,
             "ticks": ""
            },
            "type": "choropleth"
           }
          ],
          "contour": [
           {
            "colorbar": {
             "outlinewidth": 0,
             "ticks": ""
            },
            "colorscale": [
             [
              0,
              "#0d0887"
             ],
             [
              0.1111111111111111,
              "#46039f"
             ],
             [
              0.2222222222222222,
              "#7201a8"
             ],
             [
              0.3333333333333333,
              "#9c179e"
             ],
             [
              0.4444444444444444,
              "#bd3786"
             ],
             [
              0.5555555555555556,
              "#d8576b"
             ],
             [
              0.6666666666666666,
              "#ed7953"
             ],
             [
              0.7777777777777778,
              "#fb9f3a"
             ],
             [
              0.8888888888888888,
              "#fdca26"
             ],
             [
              1,
              "#f0f921"
             ]
            ],
            "type": "contour"
           }
          ],
          "contourcarpet": [
           {
            "colorbar": {
             "outlinewidth": 0,
             "ticks": ""
            },
            "type": "contourcarpet"
           }
          ],
          "heatmap": [
           {
            "colorbar": {
             "outlinewidth": 0,
             "ticks": ""
            },
            "colorscale": [
             [
              0,
              "#0d0887"
             ],
             [
              0.1111111111111111,
              "#46039f"
             ],
             [
              0.2222222222222222,
              "#7201a8"
             ],
             [
              0.3333333333333333,
              "#9c179e"
             ],
             [
              0.4444444444444444,
              "#bd3786"
             ],
             [
              0.5555555555555556,
              "#d8576b"
             ],
             [
              0.6666666666666666,
              "#ed7953"
             ],
             [
              0.7777777777777778,
              "#fb9f3a"
             ],
             [
              0.8888888888888888,
              "#fdca26"
             ],
             [
              1,
              "#f0f921"
             ]
            ],
            "type": "heatmap"
           }
          ],
          "heatmapgl": [
           {
            "colorbar": {
             "outlinewidth": 0,
             "ticks": ""
            },
            "colorscale": [
             [
              0,
              "#0d0887"
             ],
             [
              0.1111111111111111,
              "#46039f"
             ],
             [
              0.2222222222222222,
              "#7201a8"
             ],
             [
              0.3333333333333333,
              "#9c179e"
             ],
             [
              0.4444444444444444,
              "#bd3786"
             ],
             [
              0.5555555555555556,
              "#d8576b"
             ],
             [
              0.6666666666666666,
              "#ed7953"
             ],
             [
              0.7777777777777778,
              "#fb9f3a"
             ],
             [
              0.8888888888888888,
              "#fdca26"
             ],
             [
              1,
              "#f0f921"
             ]
            ],
            "type": "heatmapgl"
           }
          ],
          "histogram": [
           {
            "marker": {
             "pattern": {
              "fillmode": "overlay",
              "size": 10,
              "solidity": 0.2
             }
            },
            "type": "histogram"
           }
          ],
          "histogram2d": [
           {
            "colorbar": {
             "outlinewidth": 0,
             "ticks": ""
            },
            "colorscale": [
             [
              0,
              "#0d0887"
             ],
             [
              0.1111111111111111,
              "#46039f"
             ],
             [
              0.2222222222222222,
              "#7201a8"
             ],
             [
              0.3333333333333333,
              "#9c179e"
             ],
             [
              0.4444444444444444,
              "#bd3786"
             ],
             [
              0.5555555555555556,
              "#d8576b"
             ],
             [
              0.6666666666666666,
              "#ed7953"
             ],
             [
              0.7777777777777778,
              "#fb9f3a"
             ],
             [
              0.8888888888888888,
              "#fdca26"
             ],
             [
              1,
              "#f0f921"
             ]
            ],
            "type": "histogram2d"
           }
          ],
          "histogram2dcontour": [
           {
            "colorbar": {
             "outlinewidth": 0,
             "ticks": ""
            },
            "colorscale": [
             [
              0,
              "#0d0887"
             ],
             [
              0.1111111111111111,
              "#46039f"
             ],
             [
              0.2222222222222222,
              "#7201a8"
             ],
             [
              0.3333333333333333,
              "#9c179e"
             ],
             [
              0.4444444444444444,
              "#bd3786"
             ],
             [
              0.5555555555555556,
              "#d8576b"
             ],
             [
              0.6666666666666666,
              "#ed7953"
             ],
             [
              0.7777777777777778,
              "#fb9f3a"
             ],
             [
              0.8888888888888888,
              "#fdca26"
             ],
             [
              1,
              "#f0f921"
             ]
            ],
            "type": "histogram2dcontour"
           }
          ],
          "mesh3d": [
           {
            "colorbar": {
             "outlinewidth": 0,
             "ticks": ""
            },
            "type": "mesh3d"
           }
          ],
          "parcoords": [
           {
            "line": {
             "colorbar": {
              "outlinewidth": 0,
              "ticks": ""
             }
            },
            "type": "parcoords"
           }
          ],
          "pie": [
           {
            "automargin": true,
            "type": "pie"
           }
          ],
          "scatter": [
           {
            "fillpattern": {
             "fillmode": "overlay",
             "size": 10,
             "solidity": 0.2
            },
            "type": "scatter"
           }
          ],
          "scatter3d": [
           {
            "line": {
             "colorbar": {
              "outlinewidth": 0,
              "ticks": ""
             }
            },
            "marker": {
             "colorbar": {
              "outlinewidth": 0,
              "ticks": ""
             }
            },
            "type": "scatter3d"
           }
          ],
          "scattercarpet": [
           {
            "marker": {
             "colorbar": {
              "outlinewidth": 0,
              "ticks": ""
             }
            },
            "type": "scattercarpet"
           }
          ],
          "scattergeo": [
           {
            "marker": {
             "colorbar": {
              "outlinewidth": 0,
              "ticks": ""
             }
            },
            "type": "scattergeo"
           }
          ],
          "scattergl": [
           {
            "marker": {
             "colorbar": {
              "outlinewidth": 0,
              "ticks": ""
             }
            },
            "type": "scattergl"
           }
          ],
          "scattermapbox": [
           {
            "marker": {
             "colorbar": {
              "outlinewidth": 0,
              "ticks": ""
             }
            },
            "type": "scattermapbox"
           }
          ],
          "scatterpolar": [
           {
            "marker": {
             "colorbar": {
              "outlinewidth": 0,
              "ticks": ""
             }
            },
            "type": "scatterpolar"
           }
          ],
          "scatterpolargl": [
           {
            "marker": {
             "colorbar": {
              "outlinewidth": 0,
              "ticks": ""
             }
            },
            "type": "scatterpolargl"
           }
          ],
          "scatterternary": [
           {
            "marker": {
             "colorbar": {
              "outlinewidth": 0,
              "ticks": ""
             }
            },
            "type": "scatterternary"
           }
          ],
          "surface": [
           {
            "colorbar": {
             "outlinewidth": 0,
             "ticks": ""
            },
            "colorscale": [
             [
              0,
              "#0d0887"
             ],
             [
              0.1111111111111111,
              "#46039f"
             ],
             [
              0.2222222222222222,
              "#7201a8"
             ],
             [
              0.3333333333333333,
              "#9c179e"
             ],
             [
              0.4444444444444444,
              "#bd3786"
             ],
             [
              0.5555555555555556,
              "#d8576b"
             ],
             [
              0.6666666666666666,
              "#ed7953"
             ],
             [
              0.7777777777777778,
              "#fb9f3a"
             ],
             [
              0.8888888888888888,
              "#fdca26"
             ],
             [
              1,
              "#f0f921"
             ]
            ],
            "type": "surface"
           }
          ],
          "table": [
           {
            "cells": {
             "fill": {
              "color": "#EBF0F8"
             },
             "line": {
              "color": "white"
             }
            },
            "header": {
             "fill": {
              "color": "#C8D4E3"
             },
             "line": {
              "color": "white"
             }
            },
            "type": "table"
           }
          ]
         },
         "layout": {
          "annotationdefaults": {
           "arrowcolor": "#2a3f5f",
           "arrowhead": 0,
           "arrowwidth": 1
          },
          "autotypenumbers": "strict",
          "coloraxis": {
           "colorbar": {
            "outlinewidth": 0,
            "ticks": ""
           }
          },
          "colorscale": {
           "diverging": [
            [
             0,
             "#8e0152"
            ],
            [
             0.1,
             "#c51b7d"
            ],
            [
             0.2,
             "#de77ae"
            ],
            [
             0.3,
             "#f1b6da"
            ],
            [
             0.4,
             "#fde0ef"
            ],
            [
             0.5,
             "#f7f7f7"
            ],
            [
             0.6,
             "#e6f5d0"
            ],
            [
             0.7,
             "#b8e186"
            ],
            [
             0.8,
             "#7fbc41"
            ],
            [
             0.9,
             "#4d9221"
            ],
            [
             1,
             "#276419"
            ]
           ],
           "sequential": [
            [
             0,
             "#0d0887"
            ],
            [
             0.1111111111111111,
             "#46039f"
            ],
            [
             0.2222222222222222,
             "#7201a8"
            ],
            [
             0.3333333333333333,
             "#9c179e"
            ],
            [
             0.4444444444444444,
             "#bd3786"
            ],
            [
             0.5555555555555556,
             "#d8576b"
            ],
            [
             0.6666666666666666,
             "#ed7953"
            ],
            [
             0.7777777777777778,
             "#fb9f3a"
            ],
            [
             0.8888888888888888,
             "#fdca26"
            ],
            [
             1,
             "#f0f921"
            ]
           ],
           "sequentialminus": [
            [
             0,
             "#0d0887"
            ],
            [
             0.1111111111111111,
             "#46039f"
            ],
            [
             0.2222222222222222,
             "#7201a8"
            ],
            [
             0.3333333333333333,
             "#9c179e"
            ],
            [
             0.4444444444444444,
             "#bd3786"
            ],
            [
             0.5555555555555556,
             "#d8576b"
            ],
            [
             0.6666666666666666,
             "#ed7953"
            ],
            [
             0.7777777777777778,
             "#fb9f3a"
            ],
            [
             0.8888888888888888,
             "#fdca26"
            ],
            [
             1,
             "#f0f921"
            ]
           ]
          },
          "colorway": [
           "#636efa",
           "#EF553B",
           "#00cc96",
           "#ab63fa",
           "#FFA15A",
           "#19d3f3",
           "#FF6692",
           "#B6E880",
           "#FF97FF",
           "#FECB52"
          ],
          "font": {
           "color": "#2a3f5f"
          },
          "geo": {
           "bgcolor": "white",
           "lakecolor": "white",
           "landcolor": "#E5ECF6",
           "showlakes": true,
           "showland": true,
           "subunitcolor": "white"
          },
          "hoverlabel": {
           "align": "left"
          },
          "hovermode": "closest",
          "mapbox": {
           "style": "light"
          },
          "paper_bgcolor": "white",
          "plot_bgcolor": "#E5ECF6",
          "polar": {
           "angularaxis": {
            "gridcolor": "white",
            "linecolor": "white",
            "ticks": ""
           },
           "bgcolor": "#E5ECF6",
           "radialaxis": {
            "gridcolor": "white",
            "linecolor": "white",
            "ticks": ""
           }
          },
          "scene": {
           "xaxis": {
            "backgroundcolor": "#E5ECF6",
            "gridcolor": "white",
            "gridwidth": 2,
            "linecolor": "white",
            "showbackground": true,
            "ticks": "",
            "zerolinecolor": "white"
           },
           "yaxis": {
            "backgroundcolor": "#E5ECF6",
            "gridcolor": "white",
            "gridwidth": 2,
            "linecolor": "white",
            "showbackground": true,
            "ticks": "",
            "zerolinecolor": "white"
           },
           "zaxis": {
            "backgroundcolor": "#E5ECF6",
            "gridcolor": "white",
            "gridwidth": 2,
            "linecolor": "white",
            "showbackground": true,
            "ticks": "",
            "zerolinecolor": "white"
           }
          },
          "shapedefaults": {
           "line": {
            "color": "#2a3f5f"
           }
          },
          "ternary": {
           "aaxis": {
            "gridcolor": "white",
            "linecolor": "white",
            "ticks": ""
           },
           "baxis": {
            "gridcolor": "white",
            "linecolor": "white",
            "ticks": ""
           },
           "bgcolor": "#E5ECF6",
           "caxis": {
            "gridcolor": "white",
            "linecolor": "white",
            "ticks": ""
           }
          },
          "title": {
           "x": 0.05
          },
          "xaxis": {
           "automargin": true,
           "gridcolor": "white",
           "linecolor": "white",
           "ticks": "",
           "title": {
            "standoff": 15
           },
           "zerolinecolor": "white",
           "zerolinewidth": 2
          },
          "yaxis": {
           "automargin": true,
           "gridcolor": "white",
           "linecolor": "white",
           "ticks": "",
           "title": {
            "standoff": 15
           },
           "zerolinecolor": "white",
           "zerolinewidth": 2
          }
         }
        },
        "title": {
         "text": "Top 5 Secteur entre 2022 et 2050"
        },
        "xaxis": {
         "anchor": "y",
         "domain": [
          0,
          1
         ],
         "title": {
          "text": "Année"
         }
        },
        "yaxis": {
         "anchor": "x",
         "domain": [
          0,
          1
         ],
         "title": {
          "text": "Nombre d'emplois (prédit)"
         }
        }
       }
      }
     },
     "metadata": {},
     "output_type": "display_data"
    },
    {
     "data": {
      "application/vnd.plotly.v1+json": {
       "config": {
        "plotlyServerURL": "https://plot.ly"
       },
       "data": [
        {
         "alignmentgroup": "True",
         "hovertemplate": "Domaine=%{x}<br>Augmentation=%{y}<extra></extra>",
         "legendgroup": "",
         "marker": {
          "color": "#636efa",
          "pattern": {
           "shape": ""
          }
         },
         "name": "",
         "offsetgroup": "",
         "orientation": "v",
         "showlegend": false,
         "textposition": "auto",
         "type": "bar",
         "x": [
          "Protection de l'environnement",
          "Sols et masses d'eau",
          "Eco-activités",
          "Activités périphériques",
          "Transports longue distance"
         ],
         "xaxis": "x",
         "y": [
          219481.45902943425,
          198275.67036480826,
          155952.73660147563,
          138533.84227342345,
          81266.58851322625
         ],
         "yaxis": "y"
        }
       ],
       "layout": {
        "barmode": "relative",
        "legend": {
         "tracegroupgap": 0
        },
        "template": {
         "data": {
          "bar": [
           {
            "error_x": {
             "color": "#2a3f5f"
            },
            "error_y": {
             "color": "#2a3f5f"
            },
            "marker": {
             "line": {
              "color": "#E5ECF6",
              "width": 0.5
             },
             "pattern": {
              "fillmode": "overlay",
              "size": 10,
              "solidity": 0.2
             }
            },
            "type": "bar"
           }
          ],
          "barpolar": [
           {
            "marker": {
             "line": {
              "color": "#E5ECF6",
              "width": 0.5
             },
             "pattern": {
              "fillmode": "overlay",
              "size": 10,
              "solidity": 0.2
             }
            },
            "type": "barpolar"
           }
          ],
          "carpet": [
           {
            "aaxis": {
             "endlinecolor": "#2a3f5f",
             "gridcolor": "white",
             "linecolor": "white",
             "minorgridcolor": "white",
             "startlinecolor": "#2a3f5f"
            },
            "baxis": {
             "endlinecolor": "#2a3f5f",
             "gridcolor": "white",
             "linecolor": "white",
             "minorgridcolor": "white",
             "startlinecolor": "#2a3f5f"
            },
            "type": "carpet"
           }
          ],
          "choropleth": [
           {
            "colorbar": {
             "outlinewidth": 0,
             "ticks": ""
            },
            "type": "choropleth"
           }
          ],
          "contour": [
           {
            "colorbar": {
             "outlinewidth": 0,
             "ticks": ""
            },
            "colorscale": [
             [
              0,
              "#0d0887"
             ],
             [
              0.1111111111111111,
              "#46039f"
             ],
             [
              0.2222222222222222,
              "#7201a8"
             ],
             [
              0.3333333333333333,
              "#9c179e"
             ],
             [
              0.4444444444444444,
              "#bd3786"
             ],
             [
              0.5555555555555556,
              "#d8576b"
             ],
             [
              0.6666666666666666,
              "#ed7953"
             ],
             [
              0.7777777777777778,
              "#fb9f3a"
             ],
             [
              0.8888888888888888,
              "#fdca26"
             ],
             [
              1,
              "#f0f921"
             ]
            ],
            "type": "contour"
           }
          ],
          "contourcarpet": [
           {
            "colorbar": {
             "outlinewidth": 0,
             "ticks": ""
            },
            "type": "contourcarpet"
           }
          ],
          "heatmap": [
           {
            "colorbar": {
             "outlinewidth": 0,
             "ticks": ""
            },
            "colorscale": [
             [
              0,
              "#0d0887"
             ],
             [
              0.1111111111111111,
              "#46039f"
             ],
             [
              0.2222222222222222,
              "#7201a8"
             ],
             [
              0.3333333333333333,
              "#9c179e"
             ],
             [
              0.4444444444444444,
              "#bd3786"
             ],
             [
              0.5555555555555556,
              "#d8576b"
             ],
             [
              0.6666666666666666,
              "#ed7953"
             ],
             [
              0.7777777777777778,
              "#fb9f3a"
             ],
             [
              0.8888888888888888,
              "#fdca26"
             ],
             [
              1,
              "#f0f921"
             ]
            ],
            "type": "heatmap"
           }
          ],
          "heatmapgl": [
           {
            "colorbar": {
             "outlinewidth": 0,
             "ticks": ""
            },
            "colorscale": [
             [
              0,
              "#0d0887"
             ],
             [
              0.1111111111111111,
              "#46039f"
             ],
             [
              0.2222222222222222,
              "#7201a8"
             ],
             [
              0.3333333333333333,
              "#9c179e"
             ],
             [
              0.4444444444444444,
              "#bd3786"
             ],
             [
              0.5555555555555556,
              "#d8576b"
             ],
             [
              0.6666666666666666,
              "#ed7953"
             ],
             [
              0.7777777777777778,
              "#fb9f3a"
             ],
             [
              0.8888888888888888,
              "#fdca26"
             ],
             [
              1,
              "#f0f921"
             ]
            ],
            "type": "heatmapgl"
           }
          ],
          "histogram": [
           {
            "marker": {
             "pattern": {
              "fillmode": "overlay",
              "size": 10,
              "solidity": 0.2
             }
            },
            "type": "histogram"
           }
          ],
          "histogram2d": [
           {
            "colorbar": {
             "outlinewidth": 0,
             "ticks": ""
            },
            "colorscale": [
             [
              0,
              "#0d0887"
             ],
             [
              0.1111111111111111,
              "#46039f"
             ],
             [
              0.2222222222222222,
              "#7201a8"
             ],
             [
              0.3333333333333333,
              "#9c179e"
             ],
             [
              0.4444444444444444,
              "#bd3786"
             ],
             [
              0.5555555555555556,
              "#d8576b"
             ],
             [
              0.6666666666666666,
              "#ed7953"
             ],
             [
              0.7777777777777778,
              "#fb9f3a"
             ],
             [
              0.8888888888888888,
              "#fdca26"
             ],
             [
              1,
              "#f0f921"
             ]
            ],
            "type": "histogram2d"
           }
          ],
          "histogram2dcontour": [
           {
            "colorbar": {
             "outlinewidth": 0,
             "ticks": ""
            },
            "colorscale": [
             [
              0,
              "#0d0887"
             ],
             [
              0.1111111111111111,
              "#46039f"
             ],
             [
              0.2222222222222222,
              "#7201a8"
             ],
             [
              0.3333333333333333,
              "#9c179e"
             ],
             [
              0.4444444444444444,
              "#bd3786"
             ],
             [
              0.5555555555555556,
              "#d8576b"
             ],
             [
              0.6666666666666666,
              "#ed7953"
             ],
             [
              0.7777777777777778,
              "#fb9f3a"
             ],
             [
              0.8888888888888888,
              "#fdca26"
             ],
             [
              1,
              "#f0f921"
             ]
            ],
            "type": "histogram2dcontour"
           }
          ],
          "mesh3d": [
           {
            "colorbar": {
             "outlinewidth": 0,
             "ticks": ""
            },
            "type": "mesh3d"
           }
          ],
          "parcoords": [
           {
            "line": {
             "colorbar": {
              "outlinewidth": 0,
              "ticks": ""
             }
            },
            "type": "parcoords"
           }
          ],
          "pie": [
           {
            "automargin": true,
            "type": "pie"
           }
          ],
          "scatter": [
           {
            "fillpattern": {
             "fillmode": "overlay",
             "size": 10,
             "solidity": 0.2
            },
            "type": "scatter"
           }
          ],
          "scatter3d": [
           {
            "line": {
             "colorbar": {
              "outlinewidth": 0,
              "ticks": ""
             }
            },
            "marker": {
             "colorbar": {
              "outlinewidth": 0,
              "ticks": ""
             }
            },
            "type": "scatter3d"
           }
          ],
          "scattercarpet": [
           {
            "marker": {
             "colorbar": {
              "outlinewidth": 0,
              "ticks": ""
             }
            },
            "type": "scattercarpet"
           }
          ],
          "scattergeo": [
           {
            "marker": {
             "colorbar": {
              "outlinewidth": 0,
              "ticks": ""
             }
            },
            "type": "scattergeo"
           }
          ],
          "scattergl": [
           {
            "marker": {
             "colorbar": {
              "outlinewidth": 0,
              "ticks": ""
             }
            },
            "type": "scattergl"
           }
          ],
          "scattermapbox": [
           {
            "marker": {
             "colorbar": {
              "outlinewidth": 0,
              "ticks": ""
             }
            },
            "type": "scattermapbox"
           }
          ],
          "scatterpolar": [
           {
            "marker": {
             "colorbar": {
              "outlinewidth": 0,
              "ticks": ""
             }
            },
            "type": "scatterpolar"
           }
          ],
          "scatterpolargl": [
           {
            "marker": {
             "colorbar": {
              "outlinewidth": 0,
              "ticks": ""
             }
            },
            "type": "scatterpolargl"
           }
          ],
          "scatterternary": [
           {
            "marker": {
             "colorbar": {
              "outlinewidth": 0,
              "ticks": ""
             }
            },
            "type": "scatterternary"
           }
          ],
          "surface": [
           {
            "colorbar": {
             "outlinewidth": 0,
             "ticks": ""
            },
            "colorscale": [
             [
              0,
              "#0d0887"
             ],
             [
              0.1111111111111111,
              "#46039f"
             ],
             [
              0.2222222222222222,
              "#7201a8"
             ],
             [
              0.3333333333333333,
              "#9c179e"
             ],
             [
              0.4444444444444444,
              "#bd3786"
             ],
             [
              0.5555555555555556,
              "#d8576b"
             ],
             [
              0.6666666666666666,
              "#ed7953"
             ],
             [
              0.7777777777777778,
              "#fb9f3a"
             ],
             [
              0.8888888888888888,
              "#fdca26"
             ],
             [
              1,
              "#f0f921"
             ]
            ],
            "type": "surface"
           }
          ],
          "table": [
           {
            "cells": {
             "fill": {
              "color": "#EBF0F8"
             },
             "line": {
              "color": "white"
             }
            },
            "header": {
             "fill": {
              "color": "#C8D4E3"
             },
             "line": {
              "color": "white"
             }
            },
            "type": "table"
           }
          ]
         },
         "layout": {
          "annotationdefaults": {
           "arrowcolor": "#2a3f5f",
           "arrowhead": 0,
           "arrowwidth": 1
          },
          "autotypenumbers": "strict",
          "coloraxis": {
           "colorbar": {
            "outlinewidth": 0,
            "ticks": ""
           }
          },
          "colorscale": {
           "diverging": [
            [
             0,
             "#8e0152"
            ],
            [
             0.1,
             "#c51b7d"
            ],
            [
             0.2,
             "#de77ae"
            ],
            [
             0.3,
             "#f1b6da"
            ],
            [
             0.4,
             "#fde0ef"
            ],
            [
             0.5,
             "#f7f7f7"
            ],
            [
             0.6,
             "#e6f5d0"
            ],
            [
             0.7,
             "#b8e186"
            ],
            [
             0.8,
             "#7fbc41"
            ],
            [
             0.9,
             "#4d9221"
            ],
            [
             1,
             "#276419"
            ]
           ],
           "sequential": [
            [
             0,
             "#0d0887"
            ],
            [
             0.1111111111111111,
             "#46039f"
            ],
            [
             0.2222222222222222,
             "#7201a8"
            ],
            [
             0.3333333333333333,
             "#9c179e"
            ],
            [
             0.4444444444444444,
             "#bd3786"
            ],
            [
             0.5555555555555556,
             "#d8576b"
            ],
            [
             0.6666666666666666,
             "#ed7953"
            ],
            [
             0.7777777777777778,
             "#fb9f3a"
            ],
            [
             0.8888888888888888,
             "#fdca26"
            ],
            [
             1,
             "#f0f921"
            ]
           ],
           "sequentialminus": [
            [
             0,
             "#0d0887"
            ],
            [
             0.1111111111111111,
             "#46039f"
            ],
            [
             0.2222222222222222,
             "#7201a8"
            ],
            [
             0.3333333333333333,
             "#9c179e"
            ],
            [
             0.4444444444444444,
             "#bd3786"
            ],
            [
             0.5555555555555556,
             "#d8576b"
            ],
            [
             0.6666666666666666,
             "#ed7953"
            ],
            [
             0.7777777777777778,
             "#fb9f3a"
            ],
            [
             0.8888888888888888,
             "#fdca26"
            ],
            [
             1,
             "#f0f921"
            ]
           ]
          },
          "colorway": [
           "#636efa",
           "#EF553B",
           "#00cc96",
           "#ab63fa",
           "#FFA15A",
           "#19d3f3",
           "#FF6692",
           "#B6E880",
           "#FF97FF",
           "#FECB52"
          ],
          "font": {
           "color": "#2a3f5f"
          },
          "geo": {
           "bgcolor": "white",
           "lakecolor": "white",
           "landcolor": "#E5ECF6",
           "showlakes": true,
           "showland": true,
           "subunitcolor": "white"
          },
          "hoverlabel": {
           "align": "left"
          },
          "hovermode": "closest",
          "mapbox": {
           "style": "light"
          },
          "paper_bgcolor": "white",
          "plot_bgcolor": "#E5ECF6",
          "polar": {
           "angularaxis": {
            "gridcolor": "white",
            "linecolor": "white",
            "ticks": ""
           },
           "bgcolor": "#E5ECF6",
           "radialaxis": {
            "gridcolor": "white",
            "linecolor": "white",
            "ticks": ""
           }
          },
          "scene": {
           "xaxis": {
            "backgroundcolor": "#E5ECF6",
            "gridcolor": "white",
            "gridwidth": 2,
            "linecolor": "white",
            "showbackground": true,
            "ticks": "",
            "zerolinecolor": "white"
           },
           "yaxis": {
            "backgroundcolor": "#E5ECF6",
            "gridcolor": "white",
            "gridwidth": 2,
            "linecolor": "white",
            "showbackground": true,
            "ticks": "",
            "zerolinecolor": "white"
           },
           "zaxis": {
            "backgroundcolor": "#E5ECF6",
            "gridcolor": "white",
            "gridwidth": 2,
            "linecolor": "white",
            "showbackground": true,
            "ticks": "",
            "zerolinecolor": "white"
           }
          },
          "shapedefaults": {
           "line": {
            "color": "#2a3f5f"
           }
          },
          "ternary": {
           "aaxis": {
            "gridcolor": "white",
            "linecolor": "white",
            "ticks": ""
           },
           "baxis": {
            "gridcolor": "white",
            "linecolor": "white",
            "ticks": ""
           },
           "bgcolor": "#E5ECF6",
           "caxis": {
            "gridcolor": "white",
            "linecolor": "white",
            "ticks": ""
           }
          },
          "title": {
           "x": 0.05
          },
          "xaxis": {
           "automargin": true,
           "gridcolor": "white",
           "linecolor": "white",
           "ticks": "",
           "title": {
            "standoff": 15
           },
           "zerolinecolor": "white",
           "zerolinewidth": 2
          },
          "yaxis": {
           "automargin": true,
           "gridcolor": "white",
           "linecolor": "white",
           "ticks": "",
           "title": {
            "standoff": 15
           },
           "zerolinecolor": "white",
           "zerolinewidth": 2
          }
         }
        },
        "title": {
         "text": "Top 5 Secteur entre 2022 et 2050"
        },
        "xaxis": {
         "anchor": "y",
         "domain": [
          0,
          1
         ],
         "title": {
          "text": "Domaine"
         }
        },
        "yaxis": {
         "anchor": "x",
         "domain": [
          0,
          1
         ],
         "title": {
          "text": "Augmentation"
         }
        }
       }
      }
     },
     "metadata": {},
     "output_type": "display_data"
    }
   ],
   "source": [
    "# Identifier les 5 domaines avec la plus grande augmentation\n",
    "augmentation_df = pd.DataFrame(augmentation_data)\n",
    "top_5 = augmentation_df.nlargest(5, \"Augmentation\")\n",
    "\n",
    "# Afficher les métriques et le VIF pour les 5 domaines\n",
    "print(\"\\n--- Top 5 des domaines avec la plus grande augmentation ---\")\n",
    "print(top_5)\n",
    "\n",
    "for domaine in top_5[\"Domaine\"]:\n",
    "    metrics = next(item for item in model_metrics if item[\"Domaine\"] == domaine)\n",
    "    print(f\"\\n--- Métriques pour le domaine {domaine} ---\")\n",
    "    print(f\"R2: {metrics['R2']}, R2 ajusté: {metrics['R2 ajusté']}, P-valeur (F-stat): {metrics['P-valeur (F-stat)']}\")\n",
    "    print(\"\\n--- VIF ---\")\n",
    "    vif = pd.DataFrame(metrics[\"VIF\"])\n",
    "    print(vif)\n",
    "\n",
    "\n",
    "# Filtrer les prédictions pour inclure uniquement les 5 domaines avec la plus grande augmentation\n",
    "top_5_domains = top_5[\"Domaine\"].tolist()\n",
    "filtered_projections_df = final_projections_df[final_projections_df[\"Domaine\"].isin(top_5_domains)]\n",
    "\n",
    "# Visualisation des prédictions futures pour les 5 domaines avec la plus grande augmentation en line chart\n",
    "fig = px.line(filtered_projections_df, x=\"Année\", y=\"Nombre d'emplois (prédit)\", color=\"Domaine\",\n",
    "              title=\"Top 5 Secteur entre 2022 et 2050\")\n",
    "fig.show()\n",
    "\n",
    "# Visualisation des prédictions futures pour les 5 domaines avec la plus grande augmentation en bar chart\n",
    "fig2 = px.bar(top_5, x=\"Domaine\", y=\"Augmentation\", title=\"Top 5 Secteur entre 2022 et 2050\")\n",
    "fig2.show()"
   ]
  },
  {
   "cell_type": "markdown",
   "metadata": {},
   "source": [
    "# Bottom 5 des domaines avec la plus forte augmentation de l'emploi"
   ]
  },
  {
   "cell_type": "code",
   "execution_count": 17,
   "metadata": {},
   "outputs": [
    {
     "name": "stdout",
     "output_type": "stream",
     "text": [
      "\n",
      "--- Bottom 5 des domaines avec la plus grande augmentation ---\n",
      "                              Domaine  Augmentation\n",
      "15            Activités transversales -35045.792494\n",
      "13                                EnR -29090.831762\n",
      "9   Gestion des ressources naturelles -28488.787499\n",
      "18                          Serv gaux -23923.508373\n",
      "3                          Eaux_usées -16641.572517\n",
      "\n",
      "--- Métriques pour le domaine Activités transversales ---\n",
      "R2: 0.2334381877195717, R2 ajusté: 0.09406331275949376, P-valeur (F-stat): 0.23174452967807793\n",
      "\n",
      "--- VIF ---\n",
      "  Variable           VIF\n",
      "0    const  2.150732e+06\n",
      "1    Année  7.697711e+00\n",
      "2   Valeur  7.697711e+00\n",
      "\n",
      "--- Métriques pour le domaine EnR ---\n",
      "R2: 0.5689943126711543, R2 ajusté: 0.49062964224772776, P-valeur (F-stat): 0.009764646039477609\n",
      "\n",
      "--- VIF ---\n",
      "  Variable           VIF\n",
      "0    const  2.150732e+06\n",
      "1    Année  7.697711e+00\n",
      "2   Valeur  7.697711e+00\n",
      "\n",
      "--- Métriques pour le domaine Gestion des ressources naturelles ---\n",
      "R2: 0.7357906884459771, R2 ajusté: 0.6877526317997911, P-valeur (F-stat): 0.000661781552583291\n",
      "\n",
      "--- VIF ---\n",
      "  Variable           VIF\n",
      "0    const  2.150732e+06\n",
      "1    Année  7.697711e+00\n",
      "2   Valeur  7.697711e+00\n",
      "\n",
      "--- Métriques pour le domaine Serv gaux ---\n",
      "R2: 0.2657073187982404, R2 ajusté: 0.13219955857973864, P-valeur (F-stat): 0.18292817328748892\n",
      "\n",
      "--- VIF ---\n",
      "  Variable           VIF\n",
      "0    const  2.150732e+06\n",
      "1    Année  7.697711e+00\n",
      "2   Valeur  7.697711e+00\n",
      "\n",
      "--- Métriques pour le domaine Eaux_usées ---\n",
      "R2: 0.5651638175326084, R2 ajusté: 0.486102693447628, P-valeur (F-stat): 0.010251589526335914\n",
      "\n",
      "--- VIF ---\n",
      "  Variable           VIF\n",
      "0    const  2.150732e+06\n",
      "1    Année  7.697711e+00\n",
      "2   Valeur  7.697711e+00\n"
     ]
    },
    {
     "data": {
      "application/vnd.plotly.v1+json": {
       "config": {
        "plotlyServerURL": "https://plot.ly"
       },
       "data": [
        {
         "hovertemplate": "Domaine=Eaux_usées<br>Année=%{x}<br>Nombre d'emplois (prédit)=%{y}<extra></extra>",
         "legendgroup": "Eaux_usées",
         "line": {
          "color": "#636efa",
          "dash": "solid"
         },
         "marker": {
          "symbol": "circle"
         },
         "mode": "lines",
         "name": "Eaux_usées",
         "orientation": "v",
         "showlegend": true,
         "type": "scatter",
         "x": [
          2022,
          2023,
          2024,
          2025,
          2026,
          2027,
          2028,
          2029,
          2030,
          2031,
          2032,
          2033,
          2034,
          2035,
          2036,
          2037,
          2038,
          2039,
          2040,
          2041,
          2042,
          2043,
          2044,
          2045,
          2046,
          2047,
          2048,
          2049,
          2050
         ],
         "xaxis": "x",
         "y": [
          52127.2930758469,
          51532.95120024534,
          50938.60932464378,
          50344.26744904222,
          49749.92557344066,
          49155.5836978391,
          48561.241822237775,
          47966.899946636215,
          47372.558071034655,
          46778.216195433095,
          46183.874319831535,
          45589.532444229975,
          44995.190568628415,
          44400.848693026855,
          43806.50681742553,
          43212.16494182397,
          42617.82306622241,
          42023.48119062085,
          41429.13931501929,
          40834.79743941773,
          40240.45556381617,
          39646.11368821461,
          39051.77181261328,
          38457.42993701172,
          37863.08806141016,
          37268.7461858086,
          36674.40431020704,
          36080.06243460548,
          35485.72055900392
         ],
         "yaxis": "y"
        },
        {
         "hovertemplate": "Domaine=Gestion des ressources naturelles<br>Année=%{x}<br>Nombre d'emplois (prédit)=%{y}<extra></extra>",
         "legendgroup": "Gestion des ressources naturelles",
         "line": {
          "color": "#EF553B",
          "dash": "solid"
         },
         "marker": {
          "symbol": "circle"
         },
         "mode": "lines",
         "name": "Gestion des ressources naturelles",
         "orientation": "v",
         "showlegend": true,
         "type": "scatter",
         "x": [
          2022,
          2023,
          2024,
          2025,
          2026,
          2027,
          2028,
          2029,
          2030,
          2031,
          2032,
          2033,
          2034,
          2035,
          2036,
          2037,
          2038,
          2039,
          2040,
          2041,
          2042,
          2043,
          2044,
          2045,
          2046,
          2047,
          2048,
          2049,
          2050
         ],
         "xaxis": "x",
         "y": [
          215913.2176341291,
          214895.76093772775,
          213878.3042413264,
          212860.84754492505,
          211843.3908485237,
          210825.93415212235,
          209808.477455721,
          208791.02075931965,
          207773.5640629183,
          206756.10736651695,
          205738.6506701156,
          204721.19397371425,
          203703.73727731267,
          202686.28058091132,
          201668.82388450997,
          200651.36718810862,
          199633.91049170727,
          198616.45379530592,
          197598.99709890457,
          196581.54040250322,
          195564.08370610187,
          194546.62700970052,
          193529.17031329917,
          192511.71361689782,
          191494.25692049647,
          190476.80022409512,
          189459.34352769377,
          188441.88683129242,
          187424.43013489107
         ],
         "yaxis": "y"
        },
        {
         "hovertemplate": "Domaine=EnR<br>Année=%{x}<br>Nombre d'emplois (prédit)=%{y}<extra></extra>",
         "legendgroup": "EnR",
         "line": {
          "color": "#00cc96",
          "dash": "solid"
         },
         "marker": {
          "symbol": "circle"
         },
         "mode": "lines",
         "name": "EnR",
         "orientation": "v",
         "showlegend": true,
         "type": "scatter",
         "x": [
          2022,
          2023,
          2024,
          2025,
          2026,
          2027,
          2028,
          2029,
          2030,
          2031,
          2032,
          2033,
          2034,
          2035,
          2036,
          2037,
          2038,
          2039,
          2040,
          2041,
          2042,
          2043,
          2044,
          2045,
          2046,
          2047,
          2048,
          2049,
          2050
         ],
         "xaxis": "x",
         "y": [
          67386.9557781227,
          66347.99750091956,
          65309.03922371642,
          64270.08094651281,
          63231.12266930967,
          62192.164392106526,
          61153.20611490338,
          60114.24783770024,
          59075.2895604971,
          58036.331283293955,
          56997.37300609081,
          55958.41472888767,
          54919.45645168453,
          53880.498174481385,
          52841.53989727824,
          51802.5816200751,
          50763.62334287196,
          49724.665065668814,
          48685.70678846567,
          47646.74851126206,
          46607.79023405892,
          45568.83195685578,
          44529.873679652635,
          43490.91540244949,
          42451.95712524635,
          41412.99884804321,
          40374.040570840065,
          39335.08229363692,
          38296.12401643378
         ],
         "yaxis": "y"
        },
        {
         "hovertemplate": "Domaine=Activités transversales<br>Année=%{x}<br>Nombre d'emplois (prédit)=%{y}<extra></extra>",
         "legendgroup": "Activités transversales",
         "line": {
          "color": "#ab63fa",
          "dash": "solid"
         },
         "marker": {
          "symbol": "circle"
         },
         "mode": "lines",
         "name": "Activités transversales",
         "orientation": "v",
         "showlegend": true,
         "type": "scatter",
         "x": [
          2022,
          2023,
          2024,
          2025,
          2026,
          2027,
          2028,
          2029,
          2030,
          2031,
          2032,
          2033,
          2034,
          2035,
          2036,
          2037,
          2038,
          2039,
          2040,
          2041,
          2042,
          2043,
          2044,
          2045,
          2046,
          2047,
          2048,
          2049,
          2050
         ],
         "xaxis": "x",
         "y": [
          74424.44843898833,
          73172.81299275838,
          71921.17754652796,
          70669.54210029801,
          69417.9066540676,
          68166.27120783765,
          66914.63576160723,
          65663.00031537682,
          64411.36486914687,
          63159.729422916454,
          61908.093976686505,
          60656.45853045609,
          59404.82308422614,
          58153.187637995725,
          56901.552191765775,
          55649.91674553536,
          54398.28129930541,
          53146.645853074995,
          51895.01040684458,
          50643.37496061463,
          49391.739514384215,
          48140.104068154265,
          46888.46862192385,
          45636.8331756939,
          44385.197729463485,
          43133.562283233536,
          41881.92683700312,
          40630.291390772705,
          39378.655944542756
         ],
         "yaxis": "y"
        },
        {
         "hovertemplate": "Domaine=Serv gaux<br>Année=%{x}<br>Nombre d'emplois (prédit)=%{y}<extra></extra>",
         "legendgroup": "Serv gaux",
         "line": {
          "color": "#FFA15A",
          "dash": "solid"
         },
         "marker": {
          "symbol": "circle"
         },
         "mode": "lines",
         "name": "Serv gaux",
         "orientation": "v",
         "showlegend": true,
         "type": "scatter",
         "x": [
          2022,
          2023,
          2024,
          2025,
          2026,
          2027,
          2028,
          2029,
          2030,
          2031,
          2032,
          2033,
          2034,
          2035,
          2036,
          2037,
          2038,
          2039,
          2040,
          2041,
          2042,
          2043,
          2044,
          2045,
          2046,
          2047,
          2048,
          2049,
          2050
         ],
         "xaxis": "x",
         "y": [
          40024.63168581754,
          39170.22067249745,
          38315.809659177365,
          37461.398645857276,
          36606.98763253719,
          35752.5766192171,
          34898.165605897244,
          34043.754592577156,
          33189.34357925707,
          32334.93256593698,
          31480.52155261689,
          30626.110539296802,
          29771.699525976714,
          28917.288512656625,
          28062.877499336537,
          27208.46648601645,
          26354.05547269636,
          25499.64445937627,
          24645.233446056183,
          23790.822432736095,
          22936.41141941624,
          22082.00040609615,
          21227.589392776063,
          20373.178379455974,
          19518.767366135886,
          18664.356352815797,
          17809.94533949571,
          16955.53432617562,
          16101.123312855532
         ],
         "yaxis": "y"
        }
       ],
       "layout": {
        "legend": {
         "title": {
          "text": "Domaine"
         },
         "tracegroupgap": 0
        },
        "template": {
         "data": {
          "bar": [
           {
            "error_x": {
             "color": "#2a3f5f"
            },
            "error_y": {
             "color": "#2a3f5f"
            },
            "marker": {
             "line": {
              "color": "#E5ECF6",
              "width": 0.5
             },
             "pattern": {
              "fillmode": "overlay",
              "size": 10,
              "solidity": 0.2
             }
            },
            "type": "bar"
           }
          ],
          "barpolar": [
           {
            "marker": {
             "line": {
              "color": "#E5ECF6",
              "width": 0.5
             },
             "pattern": {
              "fillmode": "overlay",
              "size": 10,
              "solidity": 0.2
             }
            },
            "type": "barpolar"
           }
          ],
          "carpet": [
           {
            "aaxis": {
             "endlinecolor": "#2a3f5f",
             "gridcolor": "white",
             "linecolor": "white",
             "minorgridcolor": "white",
             "startlinecolor": "#2a3f5f"
            },
            "baxis": {
             "endlinecolor": "#2a3f5f",
             "gridcolor": "white",
             "linecolor": "white",
             "minorgridcolor": "white",
             "startlinecolor": "#2a3f5f"
            },
            "type": "carpet"
           }
          ],
          "choropleth": [
           {
            "colorbar": {
             "outlinewidth": 0,
             "ticks": ""
            },
            "type": "choropleth"
           }
          ],
          "contour": [
           {
            "colorbar": {
             "outlinewidth": 0,
             "ticks": ""
            },
            "colorscale": [
             [
              0,
              "#0d0887"
             ],
             [
              0.1111111111111111,
              "#46039f"
             ],
             [
              0.2222222222222222,
              "#7201a8"
             ],
             [
              0.3333333333333333,
              "#9c179e"
             ],
             [
              0.4444444444444444,
              "#bd3786"
             ],
             [
              0.5555555555555556,
              "#d8576b"
             ],
             [
              0.6666666666666666,
              "#ed7953"
             ],
             [
              0.7777777777777778,
              "#fb9f3a"
             ],
             [
              0.8888888888888888,
              "#fdca26"
             ],
             [
              1,
              "#f0f921"
             ]
            ],
            "type": "contour"
           }
          ],
          "contourcarpet": [
           {
            "colorbar": {
             "outlinewidth": 0,
             "ticks": ""
            },
            "type": "contourcarpet"
           }
          ],
          "heatmap": [
           {
            "colorbar": {
             "outlinewidth": 0,
             "ticks": ""
            },
            "colorscale": [
             [
              0,
              "#0d0887"
             ],
             [
              0.1111111111111111,
              "#46039f"
             ],
             [
              0.2222222222222222,
              "#7201a8"
             ],
             [
              0.3333333333333333,
              "#9c179e"
             ],
             [
              0.4444444444444444,
              "#bd3786"
             ],
             [
              0.5555555555555556,
              "#d8576b"
             ],
             [
              0.6666666666666666,
              "#ed7953"
             ],
             [
              0.7777777777777778,
              "#fb9f3a"
             ],
             [
              0.8888888888888888,
              "#fdca26"
             ],
             [
              1,
              "#f0f921"
             ]
            ],
            "type": "heatmap"
           }
          ],
          "heatmapgl": [
           {
            "colorbar": {
             "outlinewidth": 0,
             "ticks": ""
            },
            "colorscale": [
             [
              0,
              "#0d0887"
             ],
             [
              0.1111111111111111,
              "#46039f"
             ],
             [
              0.2222222222222222,
              "#7201a8"
             ],
             [
              0.3333333333333333,
              "#9c179e"
             ],
             [
              0.4444444444444444,
              "#bd3786"
             ],
             [
              0.5555555555555556,
              "#d8576b"
             ],
             [
              0.6666666666666666,
              "#ed7953"
             ],
             [
              0.7777777777777778,
              "#fb9f3a"
             ],
             [
              0.8888888888888888,
              "#fdca26"
             ],
             [
              1,
              "#f0f921"
             ]
            ],
            "type": "heatmapgl"
           }
          ],
          "histogram": [
           {
            "marker": {
             "pattern": {
              "fillmode": "overlay",
              "size": 10,
              "solidity": 0.2
             }
            },
            "type": "histogram"
           }
          ],
          "histogram2d": [
           {
            "colorbar": {
             "outlinewidth": 0,
             "ticks": ""
            },
            "colorscale": [
             [
              0,
              "#0d0887"
             ],
             [
              0.1111111111111111,
              "#46039f"
             ],
             [
              0.2222222222222222,
              "#7201a8"
             ],
             [
              0.3333333333333333,
              "#9c179e"
             ],
             [
              0.4444444444444444,
              "#bd3786"
             ],
             [
              0.5555555555555556,
              "#d8576b"
             ],
             [
              0.6666666666666666,
              "#ed7953"
             ],
             [
              0.7777777777777778,
              "#fb9f3a"
             ],
             [
              0.8888888888888888,
              "#fdca26"
             ],
             [
              1,
              "#f0f921"
             ]
            ],
            "type": "histogram2d"
           }
          ],
          "histogram2dcontour": [
           {
            "colorbar": {
             "outlinewidth": 0,
             "ticks": ""
            },
            "colorscale": [
             [
              0,
              "#0d0887"
             ],
             [
              0.1111111111111111,
              "#46039f"
             ],
             [
              0.2222222222222222,
              "#7201a8"
             ],
             [
              0.3333333333333333,
              "#9c179e"
             ],
             [
              0.4444444444444444,
              "#bd3786"
             ],
             [
              0.5555555555555556,
              "#d8576b"
             ],
             [
              0.6666666666666666,
              "#ed7953"
             ],
             [
              0.7777777777777778,
              "#fb9f3a"
             ],
             [
              0.8888888888888888,
              "#fdca26"
             ],
             [
              1,
              "#f0f921"
             ]
            ],
            "type": "histogram2dcontour"
           }
          ],
          "mesh3d": [
           {
            "colorbar": {
             "outlinewidth": 0,
             "ticks": ""
            },
            "type": "mesh3d"
           }
          ],
          "parcoords": [
           {
            "line": {
             "colorbar": {
              "outlinewidth": 0,
              "ticks": ""
             }
            },
            "type": "parcoords"
           }
          ],
          "pie": [
           {
            "automargin": true,
            "type": "pie"
           }
          ],
          "scatter": [
           {
            "fillpattern": {
             "fillmode": "overlay",
             "size": 10,
             "solidity": 0.2
            },
            "type": "scatter"
           }
          ],
          "scatter3d": [
           {
            "line": {
             "colorbar": {
              "outlinewidth": 0,
              "ticks": ""
             }
            },
            "marker": {
             "colorbar": {
              "outlinewidth": 0,
              "ticks": ""
             }
            },
            "type": "scatter3d"
           }
          ],
          "scattercarpet": [
           {
            "marker": {
             "colorbar": {
              "outlinewidth": 0,
              "ticks": ""
             }
            },
            "type": "scattercarpet"
           }
          ],
          "scattergeo": [
           {
            "marker": {
             "colorbar": {
              "outlinewidth": 0,
              "ticks": ""
             }
            },
            "type": "scattergeo"
           }
          ],
          "scattergl": [
           {
            "marker": {
             "colorbar": {
              "outlinewidth": 0,
              "ticks": ""
             }
            },
            "type": "scattergl"
           }
          ],
          "scattermapbox": [
           {
            "marker": {
             "colorbar": {
              "outlinewidth": 0,
              "ticks": ""
             }
            },
            "type": "scattermapbox"
           }
          ],
          "scatterpolar": [
           {
            "marker": {
             "colorbar": {
              "outlinewidth": 0,
              "ticks": ""
             }
            },
            "type": "scatterpolar"
           }
          ],
          "scatterpolargl": [
           {
            "marker": {
             "colorbar": {
              "outlinewidth": 0,
              "ticks": ""
             }
            },
            "type": "scatterpolargl"
           }
          ],
          "scatterternary": [
           {
            "marker": {
             "colorbar": {
              "outlinewidth": 0,
              "ticks": ""
             }
            },
            "type": "scatterternary"
           }
          ],
          "surface": [
           {
            "colorbar": {
             "outlinewidth": 0,
             "ticks": ""
            },
            "colorscale": [
             [
              0,
              "#0d0887"
             ],
             [
              0.1111111111111111,
              "#46039f"
             ],
             [
              0.2222222222222222,
              "#7201a8"
             ],
             [
              0.3333333333333333,
              "#9c179e"
             ],
             [
              0.4444444444444444,
              "#bd3786"
             ],
             [
              0.5555555555555556,
              "#d8576b"
             ],
             [
              0.6666666666666666,
              "#ed7953"
             ],
             [
              0.7777777777777778,
              "#fb9f3a"
             ],
             [
              0.8888888888888888,
              "#fdca26"
             ],
             [
              1,
              "#f0f921"
             ]
            ],
            "type": "surface"
           }
          ],
          "table": [
           {
            "cells": {
             "fill": {
              "color": "#EBF0F8"
             },
             "line": {
              "color": "white"
             }
            },
            "header": {
             "fill": {
              "color": "#C8D4E3"
             },
             "line": {
              "color": "white"
             }
            },
            "type": "table"
           }
          ]
         },
         "layout": {
          "annotationdefaults": {
           "arrowcolor": "#2a3f5f",
           "arrowhead": 0,
           "arrowwidth": 1
          },
          "autotypenumbers": "strict",
          "coloraxis": {
           "colorbar": {
            "outlinewidth": 0,
            "ticks": ""
           }
          },
          "colorscale": {
           "diverging": [
            [
             0,
             "#8e0152"
            ],
            [
             0.1,
             "#c51b7d"
            ],
            [
             0.2,
             "#de77ae"
            ],
            [
             0.3,
             "#f1b6da"
            ],
            [
             0.4,
             "#fde0ef"
            ],
            [
             0.5,
             "#f7f7f7"
            ],
            [
             0.6,
             "#e6f5d0"
            ],
            [
             0.7,
             "#b8e186"
            ],
            [
             0.8,
             "#7fbc41"
            ],
            [
             0.9,
             "#4d9221"
            ],
            [
             1,
             "#276419"
            ]
           ],
           "sequential": [
            [
             0,
             "#0d0887"
            ],
            [
             0.1111111111111111,
             "#46039f"
            ],
            [
             0.2222222222222222,
             "#7201a8"
            ],
            [
             0.3333333333333333,
             "#9c179e"
            ],
            [
             0.4444444444444444,
             "#bd3786"
            ],
            [
             0.5555555555555556,
             "#d8576b"
            ],
            [
             0.6666666666666666,
             "#ed7953"
            ],
            [
             0.7777777777777778,
             "#fb9f3a"
            ],
            [
             0.8888888888888888,
             "#fdca26"
            ],
            [
             1,
             "#f0f921"
            ]
           ],
           "sequentialminus": [
            [
             0,
             "#0d0887"
            ],
            [
             0.1111111111111111,
             "#46039f"
            ],
            [
             0.2222222222222222,
             "#7201a8"
            ],
            [
             0.3333333333333333,
             "#9c179e"
            ],
            [
             0.4444444444444444,
             "#bd3786"
            ],
            [
             0.5555555555555556,
             "#d8576b"
            ],
            [
             0.6666666666666666,
             "#ed7953"
            ],
            [
             0.7777777777777778,
             "#fb9f3a"
            ],
            [
             0.8888888888888888,
             "#fdca26"
            ],
            [
             1,
             "#f0f921"
            ]
           ]
          },
          "colorway": [
           "#636efa",
           "#EF553B",
           "#00cc96",
           "#ab63fa",
           "#FFA15A",
           "#19d3f3",
           "#FF6692",
           "#B6E880",
           "#FF97FF",
           "#FECB52"
          ],
          "font": {
           "color": "#2a3f5f"
          },
          "geo": {
           "bgcolor": "white",
           "lakecolor": "white",
           "landcolor": "#E5ECF6",
           "showlakes": true,
           "showland": true,
           "subunitcolor": "white"
          },
          "hoverlabel": {
           "align": "left"
          },
          "hovermode": "closest",
          "mapbox": {
           "style": "light"
          },
          "paper_bgcolor": "white",
          "plot_bgcolor": "#E5ECF6",
          "polar": {
           "angularaxis": {
            "gridcolor": "white",
            "linecolor": "white",
            "ticks": ""
           },
           "bgcolor": "#E5ECF6",
           "radialaxis": {
            "gridcolor": "white",
            "linecolor": "white",
            "ticks": ""
           }
          },
          "scene": {
           "xaxis": {
            "backgroundcolor": "#E5ECF6",
            "gridcolor": "white",
            "gridwidth": 2,
            "linecolor": "white",
            "showbackground": true,
            "ticks": "",
            "zerolinecolor": "white"
           },
           "yaxis": {
            "backgroundcolor": "#E5ECF6",
            "gridcolor": "white",
            "gridwidth": 2,
            "linecolor": "white",
            "showbackground": true,
            "ticks": "",
            "zerolinecolor": "white"
           },
           "zaxis": {
            "backgroundcolor": "#E5ECF6",
            "gridcolor": "white",
            "gridwidth": 2,
            "linecolor": "white",
            "showbackground": true,
            "ticks": "",
            "zerolinecolor": "white"
           }
          },
          "shapedefaults": {
           "line": {
            "color": "#2a3f5f"
           }
          },
          "ternary": {
           "aaxis": {
            "gridcolor": "white",
            "linecolor": "white",
            "ticks": ""
           },
           "baxis": {
            "gridcolor": "white",
            "linecolor": "white",
            "ticks": ""
           },
           "bgcolor": "#E5ECF6",
           "caxis": {
            "gridcolor": "white",
            "linecolor": "white",
            "ticks": ""
           }
          },
          "title": {
           "x": 0.05
          },
          "xaxis": {
           "automargin": true,
           "gridcolor": "white",
           "linecolor": "white",
           "ticks": "",
           "title": {
            "standoff": 15
           },
           "zerolinecolor": "white",
           "zerolinewidth": 2
          },
          "yaxis": {
           "automargin": true,
           "gridcolor": "white",
           "linecolor": "white",
           "ticks": "",
           "title": {
            "standoff": 15
           },
           "zerolinecolor": "white",
           "zerolinewidth": 2
          }
         }
        },
        "title": {
         "text": "Bottom 5 Secteur entre 2022 et 2050"
        },
        "xaxis": {
         "anchor": "y",
         "domain": [
          0,
          1
         ],
         "title": {
          "text": "Année"
         }
        },
        "yaxis": {
         "anchor": "x",
         "domain": [
          0,
          1
         ],
         "title": {
          "text": "Nombre d'emplois (prédit)"
         }
        }
       }
      }
     },
     "metadata": {},
     "output_type": "display_data"
    },
    {
     "data": {
      "application/vnd.plotly.v1+json": {
       "config": {
        "plotlyServerURL": "https://plot.ly"
       },
       "data": [
        {
         "alignmentgroup": "True",
         "hovertemplate": "Domaine=%{x}<br>Augmentation=%{y}<extra></extra>",
         "legendgroup": "",
         "marker": {
          "color": "#636efa",
          "pattern": {
           "shape": ""
          }
         },
         "name": "",
         "offsetgroup": "",
         "orientation": "v",
         "showlegend": false,
         "textposition": "auto",
         "type": "bar",
         "x": [
          "Activités transversales",
          "EnR",
          "Gestion des ressources naturelles",
          "Serv gaux",
          "Eaux_usées"
         ],
         "xaxis": "x",
         "y": [
          -35045.79249444557,
          -29090.831761688925,
          -28488.78749923804,
          -23923.50837296201,
          -16641.572516842978
         ],
         "yaxis": "y"
        }
       ],
       "layout": {
        "barmode": "relative",
        "legend": {
         "tracegroupgap": 0
        },
        "template": {
         "data": {
          "bar": [
           {
            "error_x": {
             "color": "#2a3f5f"
            },
            "error_y": {
             "color": "#2a3f5f"
            },
            "marker": {
             "line": {
              "color": "#E5ECF6",
              "width": 0.5
             },
             "pattern": {
              "fillmode": "overlay",
              "size": 10,
              "solidity": 0.2
             }
            },
            "type": "bar"
           }
          ],
          "barpolar": [
           {
            "marker": {
             "line": {
              "color": "#E5ECF6",
              "width": 0.5
             },
             "pattern": {
              "fillmode": "overlay",
              "size": 10,
              "solidity": 0.2
             }
            },
            "type": "barpolar"
           }
          ],
          "carpet": [
           {
            "aaxis": {
             "endlinecolor": "#2a3f5f",
             "gridcolor": "white",
             "linecolor": "white",
             "minorgridcolor": "white",
             "startlinecolor": "#2a3f5f"
            },
            "baxis": {
             "endlinecolor": "#2a3f5f",
             "gridcolor": "white",
             "linecolor": "white",
             "minorgridcolor": "white",
             "startlinecolor": "#2a3f5f"
            },
            "type": "carpet"
           }
          ],
          "choropleth": [
           {
            "colorbar": {
             "outlinewidth": 0,
             "ticks": ""
            },
            "type": "choropleth"
           }
          ],
          "contour": [
           {
            "colorbar": {
             "outlinewidth": 0,
             "ticks": ""
            },
            "colorscale": [
             [
              0,
              "#0d0887"
             ],
             [
              0.1111111111111111,
              "#46039f"
             ],
             [
              0.2222222222222222,
              "#7201a8"
             ],
             [
              0.3333333333333333,
              "#9c179e"
             ],
             [
              0.4444444444444444,
              "#bd3786"
             ],
             [
              0.5555555555555556,
              "#d8576b"
             ],
             [
              0.6666666666666666,
              "#ed7953"
             ],
             [
              0.7777777777777778,
              "#fb9f3a"
             ],
             [
              0.8888888888888888,
              "#fdca26"
             ],
             [
              1,
              "#f0f921"
             ]
            ],
            "type": "contour"
           }
          ],
          "contourcarpet": [
           {
            "colorbar": {
             "outlinewidth": 0,
             "ticks": ""
            },
            "type": "contourcarpet"
           }
          ],
          "heatmap": [
           {
            "colorbar": {
             "outlinewidth": 0,
             "ticks": ""
            },
            "colorscale": [
             [
              0,
              "#0d0887"
             ],
             [
              0.1111111111111111,
              "#46039f"
             ],
             [
              0.2222222222222222,
              "#7201a8"
             ],
             [
              0.3333333333333333,
              "#9c179e"
             ],
             [
              0.4444444444444444,
              "#bd3786"
             ],
             [
              0.5555555555555556,
              "#d8576b"
             ],
             [
              0.6666666666666666,
              "#ed7953"
             ],
             [
              0.7777777777777778,
              "#fb9f3a"
             ],
             [
              0.8888888888888888,
              "#fdca26"
             ],
             [
              1,
              "#f0f921"
             ]
            ],
            "type": "heatmap"
           }
          ],
          "heatmapgl": [
           {
            "colorbar": {
             "outlinewidth": 0,
             "ticks": ""
            },
            "colorscale": [
             [
              0,
              "#0d0887"
             ],
             [
              0.1111111111111111,
              "#46039f"
             ],
             [
              0.2222222222222222,
              "#7201a8"
             ],
             [
              0.3333333333333333,
              "#9c179e"
             ],
             [
              0.4444444444444444,
              "#bd3786"
             ],
             [
              0.5555555555555556,
              "#d8576b"
             ],
             [
              0.6666666666666666,
              "#ed7953"
             ],
             [
              0.7777777777777778,
              "#fb9f3a"
             ],
             [
              0.8888888888888888,
              "#fdca26"
             ],
             [
              1,
              "#f0f921"
             ]
            ],
            "type": "heatmapgl"
           }
          ],
          "histogram": [
           {
            "marker": {
             "pattern": {
              "fillmode": "overlay",
              "size": 10,
              "solidity": 0.2
             }
            },
            "type": "histogram"
           }
          ],
          "histogram2d": [
           {
            "colorbar": {
             "outlinewidth": 0,
             "ticks": ""
            },
            "colorscale": [
             [
              0,
              "#0d0887"
             ],
             [
              0.1111111111111111,
              "#46039f"
             ],
             [
              0.2222222222222222,
              "#7201a8"
             ],
             [
              0.3333333333333333,
              "#9c179e"
             ],
             [
              0.4444444444444444,
              "#bd3786"
             ],
             [
              0.5555555555555556,
              "#d8576b"
             ],
             [
              0.6666666666666666,
              "#ed7953"
             ],
             [
              0.7777777777777778,
              "#fb9f3a"
             ],
             [
              0.8888888888888888,
              "#fdca26"
             ],
             [
              1,
              "#f0f921"
             ]
            ],
            "type": "histogram2d"
           }
          ],
          "histogram2dcontour": [
           {
            "colorbar": {
             "outlinewidth": 0,
             "ticks": ""
            },
            "colorscale": [
             [
              0,
              "#0d0887"
             ],
             [
              0.1111111111111111,
              "#46039f"
             ],
             [
              0.2222222222222222,
              "#7201a8"
             ],
             [
              0.3333333333333333,
              "#9c179e"
             ],
             [
              0.4444444444444444,
              "#bd3786"
             ],
             [
              0.5555555555555556,
              "#d8576b"
             ],
             [
              0.6666666666666666,
              "#ed7953"
             ],
             [
              0.7777777777777778,
              "#fb9f3a"
             ],
             [
              0.8888888888888888,
              "#fdca26"
             ],
             [
              1,
              "#f0f921"
             ]
            ],
            "type": "histogram2dcontour"
           }
          ],
          "mesh3d": [
           {
            "colorbar": {
             "outlinewidth": 0,
             "ticks": ""
            },
            "type": "mesh3d"
           }
          ],
          "parcoords": [
           {
            "line": {
             "colorbar": {
              "outlinewidth": 0,
              "ticks": ""
             }
            },
            "type": "parcoords"
           }
          ],
          "pie": [
           {
            "automargin": true,
            "type": "pie"
           }
          ],
          "scatter": [
           {
            "fillpattern": {
             "fillmode": "overlay",
             "size": 10,
             "solidity": 0.2
            },
            "type": "scatter"
           }
          ],
          "scatter3d": [
           {
            "line": {
             "colorbar": {
              "outlinewidth": 0,
              "ticks": ""
             }
            },
            "marker": {
             "colorbar": {
              "outlinewidth": 0,
              "ticks": ""
             }
            },
            "type": "scatter3d"
           }
          ],
          "scattercarpet": [
           {
            "marker": {
             "colorbar": {
              "outlinewidth": 0,
              "ticks": ""
             }
            },
            "type": "scattercarpet"
           }
          ],
          "scattergeo": [
           {
            "marker": {
             "colorbar": {
              "outlinewidth": 0,
              "ticks": ""
             }
            },
            "type": "scattergeo"
           }
          ],
          "scattergl": [
           {
            "marker": {
             "colorbar": {
              "outlinewidth": 0,
              "ticks": ""
             }
            },
            "type": "scattergl"
           }
          ],
          "scattermapbox": [
           {
            "marker": {
             "colorbar": {
              "outlinewidth": 0,
              "ticks": ""
             }
            },
            "type": "scattermapbox"
           }
          ],
          "scatterpolar": [
           {
            "marker": {
             "colorbar": {
              "outlinewidth": 0,
              "ticks": ""
             }
            },
            "type": "scatterpolar"
           }
          ],
          "scatterpolargl": [
           {
            "marker": {
             "colorbar": {
              "outlinewidth": 0,
              "ticks": ""
             }
            },
            "type": "scatterpolargl"
           }
          ],
          "scatterternary": [
           {
            "marker": {
             "colorbar": {
              "outlinewidth": 0,
              "ticks": ""
             }
            },
            "type": "scatterternary"
           }
          ],
          "surface": [
           {
            "colorbar": {
             "outlinewidth": 0,
             "ticks": ""
            },
            "colorscale": [
             [
              0,
              "#0d0887"
             ],
             [
              0.1111111111111111,
              "#46039f"
             ],
             [
              0.2222222222222222,
              "#7201a8"
             ],
             [
              0.3333333333333333,
              "#9c179e"
             ],
             [
              0.4444444444444444,
              "#bd3786"
             ],
             [
              0.5555555555555556,
              "#d8576b"
             ],
             [
              0.6666666666666666,
              "#ed7953"
             ],
             [
              0.7777777777777778,
              "#fb9f3a"
             ],
             [
              0.8888888888888888,
              "#fdca26"
             ],
             [
              1,
              "#f0f921"
             ]
            ],
            "type": "surface"
           }
          ],
          "table": [
           {
            "cells": {
             "fill": {
              "color": "#EBF0F8"
             },
             "line": {
              "color": "white"
             }
            },
            "header": {
             "fill": {
              "color": "#C8D4E3"
             },
             "line": {
              "color": "white"
             }
            },
            "type": "table"
           }
          ]
         },
         "layout": {
          "annotationdefaults": {
           "arrowcolor": "#2a3f5f",
           "arrowhead": 0,
           "arrowwidth": 1
          },
          "autotypenumbers": "strict",
          "coloraxis": {
           "colorbar": {
            "outlinewidth": 0,
            "ticks": ""
           }
          },
          "colorscale": {
           "diverging": [
            [
             0,
             "#8e0152"
            ],
            [
             0.1,
             "#c51b7d"
            ],
            [
             0.2,
             "#de77ae"
            ],
            [
             0.3,
             "#f1b6da"
            ],
            [
             0.4,
             "#fde0ef"
            ],
            [
             0.5,
             "#f7f7f7"
            ],
            [
             0.6,
             "#e6f5d0"
            ],
            [
             0.7,
             "#b8e186"
            ],
            [
             0.8,
             "#7fbc41"
            ],
            [
             0.9,
             "#4d9221"
            ],
            [
             1,
             "#276419"
            ]
           ],
           "sequential": [
            [
             0,
             "#0d0887"
            ],
            [
             0.1111111111111111,
             "#46039f"
            ],
            [
             0.2222222222222222,
             "#7201a8"
            ],
            [
             0.3333333333333333,
             "#9c179e"
            ],
            [
             0.4444444444444444,
             "#bd3786"
            ],
            [
             0.5555555555555556,
             "#d8576b"
            ],
            [
             0.6666666666666666,
             "#ed7953"
            ],
            [
             0.7777777777777778,
             "#fb9f3a"
            ],
            [
             0.8888888888888888,
             "#fdca26"
            ],
            [
             1,
             "#f0f921"
            ]
           ],
           "sequentialminus": [
            [
             0,
             "#0d0887"
            ],
            [
             0.1111111111111111,
             "#46039f"
            ],
            [
             0.2222222222222222,
             "#7201a8"
            ],
            [
             0.3333333333333333,
             "#9c179e"
            ],
            [
             0.4444444444444444,
             "#bd3786"
            ],
            [
             0.5555555555555556,
             "#d8576b"
            ],
            [
             0.6666666666666666,
             "#ed7953"
            ],
            [
             0.7777777777777778,
             "#fb9f3a"
            ],
            [
             0.8888888888888888,
             "#fdca26"
            ],
            [
             1,
             "#f0f921"
            ]
           ]
          },
          "colorway": [
           "#636efa",
           "#EF553B",
           "#00cc96",
           "#ab63fa",
           "#FFA15A",
           "#19d3f3",
           "#FF6692",
           "#B6E880",
           "#FF97FF",
           "#FECB52"
          ],
          "font": {
           "color": "#2a3f5f"
          },
          "geo": {
           "bgcolor": "white",
           "lakecolor": "white",
           "landcolor": "#E5ECF6",
           "showlakes": true,
           "showland": true,
           "subunitcolor": "white"
          },
          "hoverlabel": {
           "align": "left"
          },
          "hovermode": "closest",
          "mapbox": {
           "style": "light"
          },
          "paper_bgcolor": "white",
          "plot_bgcolor": "#E5ECF6",
          "polar": {
           "angularaxis": {
            "gridcolor": "white",
            "linecolor": "white",
            "ticks": ""
           },
           "bgcolor": "#E5ECF6",
           "radialaxis": {
            "gridcolor": "white",
            "linecolor": "white",
            "ticks": ""
           }
          },
          "scene": {
           "xaxis": {
            "backgroundcolor": "#E5ECF6",
            "gridcolor": "white",
            "gridwidth": 2,
            "linecolor": "white",
            "showbackground": true,
            "ticks": "",
            "zerolinecolor": "white"
           },
           "yaxis": {
            "backgroundcolor": "#E5ECF6",
            "gridcolor": "white",
            "gridwidth": 2,
            "linecolor": "white",
            "showbackground": true,
            "ticks": "",
            "zerolinecolor": "white"
           },
           "zaxis": {
            "backgroundcolor": "#E5ECF6",
            "gridcolor": "white",
            "gridwidth": 2,
            "linecolor": "white",
            "showbackground": true,
            "ticks": "",
            "zerolinecolor": "white"
           }
          },
          "shapedefaults": {
           "line": {
            "color": "#2a3f5f"
           }
          },
          "ternary": {
           "aaxis": {
            "gridcolor": "white",
            "linecolor": "white",
            "ticks": ""
           },
           "baxis": {
            "gridcolor": "white",
            "linecolor": "white",
            "ticks": ""
           },
           "bgcolor": "#E5ECF6",
           "caxis": {
            "gridcolor": "white",
            "linecolor": "white",
            "ticks": ""
           }
          },
          "title": {
           "x": 0.05
          },
          "xaxis": {
           "automargin": true,
           "gridcolor": "white",
           "linecolor": "white",
           "ticks": "",
           "title": {
            "standoff": 15
           },
           "zerolinecolor": "white",
           "zerolinewidth": 2
          },
          "yaxis": {
           "automargin": true,
           "gridcolor": "white",
           "linecolor": "white",
           "ticks": "",
           "title": {
            "standoff": 15
           },
           "zerolinecolor": "white",
           "zerolinewidth": 2
          }
         }
        },
        "title": {
         "text": "Bottom 5 Secteur entre 2022 et 2050"
        },
        "xaxis": {
         "anchor": "y",
         "domain": [
          0,
          1
         ],
         "title": {
          "text": "Domaine"
         }
        },
        "yaxis": {
         "anchor": "x",
         "domain": [
          0,
          1
         ],
         "title": {
          "text": "Augmentation"
         }
        }
       }
      }
     },
     "metadata": {},
     "output_type": "display_data"
    }
   ],
   "source": [
    "# Identifier les 5 domaines avec la plus grande augmentation\n",
    "augmentation_df = pd.DataFrame(augmentation_data)\n",
    "bottom_5 = augmentation_df.nsmallest(5, \"Augmentation\")\n",
    "\n",
    "# Afficher les métriques et le VIF pour les 5 bottom domaines\n",
    "print(\"\\n--- Bottom 5 des domaines avec la plus grande augmentation ---\")\n",
    "print(bottom_5)\n",
    "\n",
    "for domaine in bottom_5[\"Domaine\"]:\n",
    "    metrics = next(item for item in model_metrics if item[\"Domaine\"] == domaine)\n",
    "    print(f\"\\n--- Métriques pour le domaine {domaine} ---\")\n",
    "    print(f\"R2: {metrics['R2']}, R2 ajusté: {metrics['R2 ajusté']}, P-valeur (F-stat): {metrics['P-valeur (F-stat)']}\")\n",
    "    print(\"\\n--- VIF ---\")\n",
    "    vif = pd.DataFrame(metrics[\"VIF\"])\n",
    "    print(vif)\n",
    "\n",
    "\n",
    "# Filtrer les prédictions pour inclure uniquement les bottom 5 domaines avec la plus grande augmentation\n",
    "bottom_5_domains = bottom_5[\"Domaine\"].tolist()\n",
    "filtered_projections_df = final_projections_df[final_projections_df[\"Domaine\"].isin(bottom_5_domains)]\n",
    "\n",
    "# Visualisation des prédictions futures pour les bottom 5 domaines avec la plus grande augmentation en line chart\n",
    "fig = px.line(filtered_projections_df, x=\"Année\", y=\"Nombre d'emplois (prédit)\", color=\"Domaine\",\n",
    "              title=\"Bottom 5 Secteur entre 2022 et 2050\")\n",
    "fig.show()\n",
    "\n",
    "# Visualisation des prédictions futures pour les 5 domaines avec la plus grande augmentation en bar chart\n",
    "fig2 = px.bar(bottom_5, x=\"Domaine\", y=\"Augmentation\", title=\"Bottom 5 Secteur entre 2022 et 2050\")\n",
    "fig2.show()"
   ]
  }
 ],
 "metadata": {
  "kernelspec": {
   "display_name": "Python 3",
   "language": "python",
   "name": "python3"
  },
  "language_info": {
   "codemirror_mode": {
    "name": "ipython",
    "version": 3
   },
   "file_extension": ".py",
   "mimetype": "text/x-python",
   "name": "python",
   "nbconvert_exporter": "python",
   "pygments_lexer": "ipython3",
   "version": "3.12.4"
  }
 },
 "nbformat": 4,
 "nbformat_minor": 2
}
